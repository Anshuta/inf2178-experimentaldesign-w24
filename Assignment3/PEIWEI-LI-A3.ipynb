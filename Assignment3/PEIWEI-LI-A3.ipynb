{
 "cells": [
  {
   "cell_type": "code",
   "execution_count": 6,
   "id": "f494e35a-c58a-4bf9-ad39-3a5ce5512ad9",
   "metadata": {},
   "outputs": [
    {
     "name": "stdout",
     "output_type": "stream",
     "text": [
      "   fallreadingscore  fallmathscore  fallgeneralknowledgescore  \\\n",
      "0             36.58          39.54                     33.822   \n",
      "1             50.82          44.44                     38.147   \n",
      "2             40.68          28.57                     28.108   \n",
      "3             32.57          23.57                     15.404   \n",
      "4             31.98          19.65                     18.727   \n",
      "\n",
      "   springreadingscore  springmathscore  springgeneralknowledgescore  \\\n",
      "0               49.37            50.10                       40.533   \n",
      "1               83.50            58.93                       37.409   \n",
      "2               40.41            32.81                       29.312   \n",
      "3               34.14            35.25                       27.382   \n",
      "4               32.84            23.60                       26.977   \n",
      "\n",
      "   totalhouseholdincome  incomeinthousands  incomegroup  \n",
      "0              140000.0              140.0            3  \n",
      "1              120000.0              120.0            3  \n",
      "2               90000.0               90.0            3  \n",
      "3               50000.0               50.0            2  \n",
      "4               55000.0               55.0            2  \n"
     ]
    }
   ],
   "source": [
    "import pandas as pd\n",
    "\n",
    "# Load the dataset into the 'data' variable\n",
    "data = pd.read_csv('C:\\\\Users\\\\nicol\\\\Desktop\\\\INF2178_A3\\\\INF2178_A3_data.csv')\n",
    "\n",
    "# Display the first few rows of the dataset to understand its structure\n",
    "print(data.head())\n"
   ]
  },
  {
   "cell_type": "code",
   "execution_count": 7,
   "id": "0583d393-4255-4b22-965b-c23b30e5700a",
   "metadata": {},
   "outputs": [
    {
     "data": {
      "text/plain": [
       "fallreadingscore               0\n",
       "fallmathscore                  0\n",
       "fallgeneralknowledgescore      0\n",
       "springreadingscore             0\n",
       "springmathscore                0\n",
       "springgeneralknowledgescore    0\n",
       "totalhouseholdincome           0\n",
       "incomeinthousands              0\n",
       "incomegroup                    0\n",
       "dtype: int64"
      ]
     },
     "execution_count": 7,
     "metadata": {},
     "output_type": "execute_result"
    }
   ],
   "source": [
    "# Basic statistical summary of the dataset\n",
    "data.describe()\n",
    "\n",
    "# Check for missing values in the dataset\n",
    "data.isnull().sum()\n"
   ]
  },
  {
   "cell_type": "code",
   "execution_count": 8,
   "id": "2113dc88-ce36-4193-834d-c4531c0b6991",
   "metadata": {},
   "outputs": [
    {
     "name": "stdout",
     "output_type": "stream",
     "text": [
      "                                 sum_sq       df            F        PR(>F)\n",
      "incomegroup                1.988014e+04      1.0   121.600734  3.859810e-28\n",
      "fallgeneralknowledgescore  3.512812e+05      1.0  2148.679176  0.000000e+00\n",
      "Residual                   1.950400e+06  11930.0          NaN           NaN\n"
     ]
    }
   ],
   "source": [
    "from statsmodels.formula.api import ols\n",
    "import statsmodels.api as sm\n",
    "\n",
    "# ANCOVA for Reading scores\n",
    "ancova_reading = ols('springreadingscore ~ incomegroup + fallgeneralknowledgescore', data=data).fit()\n",
    "ancova_reading_table = sm.stats.anova_lm(ancova_reading, typ=2)\n",
    "print(ancova_reading_table)\n"
   ]
  },
  {
   "cell_type": "code",
   "execution_count": 10,
   "id": "0f6fc611-373c-4515-8658-1241b888dd0d",
   "metadata": {},
   "outputs": [
    {
     "name": "stdout",
     "output_type": "stream",
     "text": [
      "                                  sum_sq       df           F        PR(>F)\n",
      "C(incomegroup)                287.485906      2.0    2.251247  1.053126e-01\n",
      "fallgeneralknowledgescore   14054.124684      1.0  220.110317  2.354473e-49\n",
      "Residual                   761671.036393  11929.0         NaN           NaN\n",
      "                                  sum_sq       df           F         PR(>F)\n",
      "C(incomegroup)                 55.879616      2.0    0.624286   5.356614e-01\n",
      "fallgeneralknowledgescore   22425.932956      1.0  501.083959  9.425259e-109\n",
      "Residual                   533880.499781  11929.0         NaN            NaN\n"
     ]
    }
   ],
   "source": [
    "import statsmodels.api as sm\n",
    "from statsmodels.formula.api import ols\n",
    "\n",
    "# Calculate the change in scores from fall to spring\n",
    "data['reading_score_change'] = data['springreadingscore'] - data['fallreadingscore']\n",
    "data['math_score_change'] = data['springmathscore'] - data['fallmathscore']\n",
    "\n",
    "# Perform the ANCOVA for Reading scores\n",
    "ancova_model_reading = ols('reading_score_change ~ C(incomegroup) + fallgeneralknowledgescore', data=data).fit()\n",
    "ancova_results_reading = sm.stats.anova_lm(ancova_model_reading, typ=2)\n",
    "print(ancova_results_reading)\n",
    "\n",
    "# Perform the ANCOVA for Math scores\n",
    "ancova_model_math = ols('math_score_change ~ C(incomegroup) + fallgeneralknowledgescore', data=data).fit()\n",
    "ancova_results_math = sm.stats.anova_lm(ancova_model_math, typ=2)\n",
    "print(ancova_results_math)\n"
   ]
  },
  {
   "cell_type": "code",
   "execution_count": 11,
   "id": "7dfa220e-bb7c-410c-8608-93f7c6cf1f86",
   "metadata": {},
   "outputs": [
    {
     "name": "stdout",
     "output_type": "stream",
     "text": [
      "                                 sum_sq       df            F        PR(>F)\n",
      "C(incomegroup)             2.044032e+04      2.0    62.526295  9.694407e-28\n",
      "fallgeneralknowledgescore  3.518276e+05      1.0  2152.459429  0.000000e+00\n",
      "Residual                   1.949840e+06  11929.0          NaN           NaN\n"
     ]
    }
   ],
   "source": [
    "# Perform the ANCOVA for Spring Reading scores\n",
    "ancova_spring_reading = ols('springreadingscore ~ C(incomegroup) + fallgeneralknowledgescore', data=data).fit()\n",
    "ancova_results_spring_reading = sm.stats.anova_lm(ancova_spring_reading, typ=2)\n",
    "print(ancova_results_spring_reading)\n"
   ]
  },
  {
   "cell_type": "code",
   "execution_count": 12,
   "id": "c05e50af-ddce-4103-89a2-a71ea9f58f91",
   "metadata": {},
   "outputs": [
    {
     "name": "stdout",
     "output_type": "stream",
     "text": [
      "                                 sum_sq       df            F        PR(>F)\n",
      "C(incomegroup)             1.281978e+04      2.0    67.934909  4.602575e-30\n",
      "fallgeneralknowledgescore  4.524467e+05      1.0  4795.235313  0.000000e+00\n",
      "Residual                   1.125542e+06  11929.0          NaN           NaN\n"
     ]
    }
   ],
   "source": [
    "# Perform the ANCOVA for Spring Math scores\n",
    "ancova_spring_math = ols('springmathscore ~ C(incomegroup) + fallgeneralknowledgescore', data=data).fit()\n",
    "ancova_results_spring_math = sm.stats.anova_lm(ancova_spring_math, typ=2)\n",
    "print(ancova_results_spring_math)\n"
   ]
  },
  {
   "cell_type": "code",
   "execution_count": 13,
   "id": "64f063dc-ce45-4359-bbf7-856be0bb9509",
   "metadata": {},
   "outputs": [
    {
     "name": "stdout",
     "output_type": "stream",
     "text": [
      "                        sum_sq       df             F    PR(>F)\n",
      "C(incomegroup)    5.131201e+02      2.0      4.055660  0.017348\n",
      "fallreadingscore  1.547042e+06      1.0  24455.397576  0.000000\n",
      "Residual          7.546256e+05  11929.0           NaN       NaN\n"
     ]
    }
   ],
   "source": [
    "# Perform the ANCOVA for Spring Reading scores with fall reading score as covariate\n",
    "ancova_spring_reading_fall = ols('springreadingscore ~ C(incomegroup) + fallreadingscore', data=data).fit()\n",
    "ancova_results_spring_reading_fall = sm.stats.anova_lm(ancova_spring_reading_fall, typ=2)\n",
    "print(ancova_results_spring_reading_fall)\n"
   ]
  },
  {
   "cell_type": "code",
   "execution_count": 14,
   "id": "b474bb6e-3157-4ce6-88f7-c73b793685ca",
   "metadata": {},
   "outputs": [
    {
     "name": "stdout",
     "output_type": "stream",
     "text": [
      "                      sum_sq       df             F        PR(>F)\n",
      "C(incomegroup)  1.712758e+03      2.0     18.523585  9.284861e-09\n",
      "fallmathscore   1.026489e+06      1.0  22203.081238  0.000000e+00\n",
      "Residual        5.514994e+05  11929.0           NaN           NaN\n"
     ]
    }
   ],
   "source": [
    "# Perform the ANCOVA for Spring Math scores with fall math score as covariate\n",
    "ancova_spring_math_fall = ols('springmathscore ~ C(incomegroup) + fallmathscore', data=data).fit()\n",
    "ancova_results_spring_math_fall = sm.stats.anova_lm(ancova_spring_math_fall, typ=2)\n",
    "print(ancova_results_spring_math_fall)\n"
   ]
  },
  {
   "cell_type": "code",
   "execution_count": null,
   "id": "4913d71d-4c7c-4f79-9a57-6b18539e6525",
   "metadata": {},
   "outputs": [],
   "source": []
  }
 ],
 "metadata": {
  "kernelspec": {
   "display_name": "Python 3 (ipykernel)",
   "language": "python",
   "name": "python3"
  },
  "language_info": {
   "codemirror_mode": {
    "name": "ipython",
    "version": 3
   },
   "file_extension": ".py",
   "mimetype": "text/x-python",
   "name": "python",
   "nbconvert_exporter": "python",
   "pygments_lexer": "ipython3",
   "version": "3.12.2"
  }
 },
 "nbformat": 4,
 "nbformat_minor": 5
}
