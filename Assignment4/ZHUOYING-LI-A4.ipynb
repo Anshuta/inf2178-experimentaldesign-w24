{
 "cells": [
  {
   "cell_type": "markdown",
   "metadata": {},
   "source": [
    "# Assignment 4\n",
    "Zhuoying Li\n",
    "1004021202"
   ]
  },
  {
   "cell_type": "markdown",
   "metadata": {},
   "source": [
    "## Research Question\n",
    "\n",
    "Our research question for this project is as the following:\n",
    "\n",
    "- Is there a significant interaction between various groups of individuals (Nondemented, Demented, Converted), time, and the MMSE score?"
   ]
  },
  {
   "cell_type": "markdown",
   "metadata": {},
   "source": [
    "## Exploratory Data Analysis"
   ]
  },
  {
   "cell_type": "code",
   "execution_count": 20,
   "metadata": {},
   "outputs": [
    {
     "data": {
      "text/html": [
       "<div>\n",
       "<style scoped>\n",
       "    .dataframe tbody tr th:only-of-type {\n",
       "        vertical-align: middle;\n",
       "    }\n",
       "\n",
       "    .dataframe tbody tr th {\n",
       "        vertical-align: top;\n",
       "    }\n",
       "\n",
       "    .dataframe thead th {\n",
       "        text-align: right;\n",
       "    }\n",
       "</style>\n",
       "<table border=\"1\" class=\"dataframe\">\n",
       "  <thead>\n",
       "    <tr style=\"text-align: right;\">\n",
       "      <th></th>\n",
       "      <th>Unnamed: 0</th>\n",
       "      <th>Subject ID</th>\n",
       "      <th>MRI ID</th>\n",
       "      <th>Group</th>\n",
       "      <th>Visit</th>\n",
       "      <th>MR Delay</th>\n",
       "      <th>M/F</th>\n",
       "      <th>Hand</th>\n",
       "      <th>Age</th>\n",
       "      <th>EDUC</th>\n",
       "      <th>SES</th>\n",
       "      <th>MMSE</th>\n",
       "      <th>CDR</th>\n",
       "      <th>eTIV</th>\n",
       "      <th>nWBV</th>\n",
       "      <th>ASF</th>\n",
       "    </tr>\n",
       "  </thead>\n",
       "  <tbody>\n",
       "    <tr>\n",
       "      <th>0</th>\n",
       "      <td>0</td>\n",
       "      <td>OAS2_0001</td>\n",
       "      <td>OAS2_0001_MR1</td>\n",
       "      <td>Nondemented</td>\n",
       "      <td>1</td>\n",
       "      <td>0</td>\n",
       "      <td>M</td>\n",
       "      <td>R</td>\n",
       "      <td>87</td>\n",
       "      <td>14</td>\n",
       "      <td>2.0</td>\n",
       "      <td>27.0</td>\n",
       "      <td>0.0</td>\n",
       "      <td>1987</td>\n",
       "      <td>0.696</td>\n",
       "      <td>0.883</td>\n",
       "    </tr>\n",
       "    <tr>\n",
       "      <th>1</th>\n",
       "      <td>1</td>\n",
       "      <td>OAS2_0001</td>\n",
       "      <td>OAS2_0001_MR2</td>\n",
       "      <td>Nondemented</td>\n",
       "      <td>2</td>\n",
       "      <td>457</td>\n",
       "      <td>M</td>\n",
       "      <td>R</td>\n",
       "      <td>88</td>\n",
       "      <td>14</td>\n",
       "      <td>2.0</td>\n",
       "      <td>30.0</td>\n",
       "      <td>0.0</td>\n",
       "      <td>2004</td>\n",
       "      <td>0.681</td>\n",
       "      <td>0.876</td>\n",
       "    </tr>\n",
       "    <tr>\n",
       "      <th>2</th>\n",
       "      <td>2</td>\n",
       "      <td>OAS2_0002</td>\n",
       "      <td>OAS2_0002_MR1</td>\n",
       "      <td>Demented</td>\n",
       "      <td>1</td>\n",
       "      <td>0</td>\n",
       "      <td>M</td>\n",
       "      <td>R</td>\n",
       "      <td>75</td>\n",
       "      <td>12</td>\n",
       "      <td>NaN</td>\n",
       "      <td>23.0</td>\n",
       "      <td>0.5</td>\n",
       "      <td>1678</td>\n",
       "      <td>0.736</td>\n",
       "      <td>1.046</td>\n",
       "    </tr>\n",
       "    <tr>\n",
       "      <th>3</th>\n",
       "      <td>3</td>\n",
       "      <td>OAS2_0002</td>\n",
       "      <td>OAS2_0002_MR2</td>\n",
       "      <td>Demented</td>\n",
       "      <td>2</td>\n",
       "      <td>560</td>\n",
       "      <td>M</td>\n",
       "      <td>R</td>\n",
       "      <td>76</td>\n",
       "      <td>12</td>\n",
       "      <td>NaN</td>\n",
       "      <td>28.0</td>\n",
       "      <td>0.5</td>\n",
       "      <td>1738</td>\n",
       "      <td>0.713</td>\n",
       "      <td>1.010</td>\n",
       "    </tr>\n",
       "    <tr>\n",
       "      <th>4</th>\n",
       "      <td>5</td>\n",
       "      <td>OAS2_0004</td>\n",
       "      <td>OAS2_0004_MR1</td>\n",
       "      <td>Nondemented</td>\n",
       "      <td>1</td>\n",
       "      <td>0</td>\n",
       "      <td>F</td>\n",
       "      <td>R</td>\n",
       "      <td>88</td>\n",
       "      <td>18</td>\n",
       "      <td>3.0</td>\n",
       "      <td>28.0</td>\n",
       "      <td>0.0</td>\n",
       "      <td>1215</td>\n",
       "      <td>0.710</td>\n",
       "      <td>1.444</td>\n",
       "    </tr>\n",
       "  </tbody>\n",
       "</table>\n",
       "</div>"
      ],
      "text/plain": [
       "   Unnamed: 0 Subject ID         MRI ID        Group  Visit  MR Delay M/F  \\\n",
       "0           0  OAS2_0001  OAS2_0001_MR1  Nondemented      1         0   M   \n",
       "1           1  OAS2_0001  OAS2_0001_MR2  Nondemented      2       457   M   \n",
       "2           2  OAS2_0002  OAS2_0002_MR1     Demented      1         0   M   \n",
       "3           3  OAS2_0002  OAS2_0002_MR2     Demented      2       560   M   \n",
       "4           5  OAS2_0004  OAS2_0004_MR1  Nondemented      1         0   F   \n",
       "\n",
       "  Hand  Age  EDUC  SES  MMSE  CDR  eTIV   nWBV    ASF  \n",
       "0    R   87    14  2.0  27.0  0.0  1987  0.696  0.883  \n",
       "1    R   88    14  2.0  30.0  0.0  2004  0.681  0.876  \n",
       "2    R   75    12  NaN  23.0  0.5  1678  0.736  1.046  \n",
       "3    R   76    12  NaN  28.0  0.5  1738  0.713  1.010  \n",
       "4    R   88    18  3.0  28.0  0.0  1215  0.710  1.444  "
      ]
     },
     "execution_count": 20,
     "metadata": {},
     "output_type": "execute_result"
    }
   ],
   "source": [
    "import pandas as pd\n",
    "import matplotlib.pyplot as plt\n",
    "import seaborn as sns\n",
    "import numpy as np\n",
    "\n",
    "# Load the data and display the first few rows\n",
    "df = pd.read_csv('./INF2178_A4_data.csv')\n",
    "df.head()"
   ]
  },
  {
   "cell_type": "code",
   "execution_count": 21,
   "metadata": {},
   "outputs": [
    {
     "data": {
      "text/html": [
       "<div>\n",
       "<style scoped>\n",
       "    .dataframe tbody tr th:only-of-type {\n",
       "        vertical-align: middle;\n",
       "    }\n",
       "\n",
       "    .dataframe tbody tr th {\n",
       "        vertical-align: top;\n",
       "    }\n",
       "\n",
       "    .dataframe thead th {\n",
       "        text-align: right;\n",
       "    }\n",
       "</style>\n",
       "<table border=\"1\" class=\"dataframe\">\n",
       "  <thead>\n",
       "    <tr style=\"text-align: right;\">\n",
       "      <th></th>\n",
       "      <th>Unnamed: 0</th>\n",
       "      <th>Visit</th>\n",
       "      <th>MR Delay</th>\n",
       "      <th>Age</th>\n",
       "      <th>EDUC</th>\n",
       "      <th>SES</th>\n",
       "      <th>MMSE</th>\n",
       "      <th>CDR</th>\n",
       "      <th>eTIV</th>\n",
       "      <th>nWBV</th>\n",
       "      <th>ASF</th>\n",
       "    </tr>\n",
       "  </thead>\n",
       "  <tbody>\n",
       "    <tr>\n",
       "      <th>count</th>\n",
       "      <td>294.000000</td>\n",
       "      <td>294.000000</td>\n",
       "      <td>294.000000</td>\n",
       "      <td>294.000000</td>\n",
       "      <td>294.000000</td>\n",
       "      <td>279.000000</td>\n",
       "      <td>293.000000</td>\n",
       "      <td>294.000000</td>\n",
       "      <td>294.000000</td>\n",
       "      <td>294.000000</td>\n",
       "      <td>294.000000</td>\n",
       "    </tr>\n",
       "    <tr>\n",
       "      <th>mean</th>\n",
       "      <td>190.421769</td>\n",
       "      <td>1.489796</td>\n",
       "      <td>349.785714</td>\n",
       "      <td>76.411565</td>\n",
       "      <td>14.561224</td>\n",
       "      <td>2.491039</td>\n",
       "      <td>27.259386</td>\n",
       "      <td>0.301020</td>\n",
       "      <td>1478.853741</td>\n",
       "      <td>0.731381</td>\n",
       "      <td>1.203109</td>\n",
       "    </tr>\n",
       "    <tr>\n",
       "      <th>std</th>\n",
       "      <td>106.686740</td>\n",
       "      <td>0.500748</td>\n",
       "      <td>400.741520</td>\n",
       "      <td>7.607074</td>\n",
       "      <td>2.884818</td>\n",
       "      <td>1.128008</td>\n",
       "      <td>3.413454</td>\n",
       "      <td>0.381347</td>\n",
       "      <td>176.559755</td>\n",
       "      <td>0.037373</td>\n",
       "      <td>0.139365</td>\n",
       "    </tr>\n",
       "    <tr>\n",
       "      <th>min</th>\n",
       "      <td>0.000000</td>\n",
       "      <td>1.000000</td>\n",
       "      <td>0.000000</td>\n",
       "      <td>60.000000</td>\n",
       "      <td>6.000000</td>\n",
       "      <td>1.000000</td>\n",
       "      <td>15.000000</td>\n",
       "      <td>0.000000</td>\n",
       "      <td>1106.000000</td>\n",
       "      <td>0.646000</td>\n",
       "      <td>0.876000</td>\n",
       "    </tr>\n",
       "    <tr>\n",
       "      <th>25%</th>\n",
       "      <td>99.000000</td>\n",
       "      <td>1.000000</td>\n",
       "      <td>0.000000</td>\n",
       "      <td>71.000000</td>\n",
       "      <td>12.000000</td>\n",
       "      <td>2.000000</td>\n",
       "      <td>26.000000</td>\n",
       "      <td>0.000000</td>\n",
       "      <td>1347.250000</td>\n",
       "      <td>0.703000</td>\n",
       "      <td>1.118250</td>\n",
       "    </tr>\n",
       "    <tr>\n",
       "      <th>50%</th>\n",
       "      <td>195.500000</td>\n",
       "      <td>1.000000</td>\n",
       "      <td>0.000000</td>\n",
       "      <td>76.000000</td>\n",
       "      <td>14.500000</td>\n",
       "      <td>2.000000</td>\n",
       "      <td>29.000000</td>\n",
       "      <td>0.000000</td>\n",
       "      <td>1461.500000</td>\n",
       "      <td>0.732000</td>\n",
       "      <td>1.201000</td>\n",
       "    </tr>\n",
       "    <tr>\n",
       "      <th>75%</th>\n",
       "      <td>282.750000</td>\n",
       "      <td>2.000000</td>\n",
       "      <td>671.500000</td>\n",
       "      <td>81.000000</td>\n",
       "      <td>16.000000</td>\n",
       "      <td>3.000000</td>\n",
       "      <td>30.000000</td>\n",
       "      <td>0.500000</td>\n",
       "      <td>1569.000000</td>\n",
       "      <td>0.756000</td>\n",
       "      <td>1.302750</td>\n",
       "    </tr>\n",
       "    <tr>\n",
       "      <th>max</th>\n",
       "      <td>371.000000</td>\n",
       "      <td>2.000000</td>\n",
       "      <td>1707.000000</td>\n",
       "      <td>98.000000</td>\n",
       "      <td>23.000000</td>\n",
       "      <td>5.000000</td>\n",
       "      <td>30.000000</td>\n",
       "      <td>2.000000</td>\n",
       "      <td>2004.000000</td>\n",
       "      <td>0.837000</td>\n",
       "      <td>1.587000</td>\n",
       "    </tr>\n",
       "  </tbody>\n",
       "</table>\n",
       "</div>"
      ],
      "text/plain": [
       "       Unnamed: 0       Visit     MR Delay         Age        EDUC  \\\n",
       "count  294.000000  294.000000   294.000000  294.000000  294.000000   \n",
       "mean   190.421769    1.489796   349.785714   76.411565   14.561224   \n",
       "std    106.686740    0.500748   400.741520    7.607074    2.884818   \n",
       "min      0.000000    1.000000     0.000000   60.000000    6.000000   \n",
       "25%     99.000000    1.000000     0.000000   71.000000   12.000000   \n",
       "50%    195.500000    1.000000     0.000000   76.000000   14.500000   \n",
       "75%    282.750000    2.000000   671.500000   81.000000   16.000000   \n",
       "max    371.000000    2.000000  1707.000000   98.000000   23.000000   \n",
       "\n",
       "              SES        MMSE         CDR         eTIV        nWBV         ASF  \n",
       "count  279.000000  293.000000  294.000000   294.000000  294.000000  294.000000  \n",
       "mean     2.491039   27.259386    0.301020  1478.853741    0.731381    1.203109  \n",
       "std      1.128008    3.413454    0.381347   176.559755    0.037373    0.139365  \n",
       "min      1.000000   15.000000    0.000000  1106.000000    0.646000    0.876000  \n",
       "25%      2.000000   26.000000    0.000000  1347.250000    0.703000    1.118250  \n",
       "50%      2.000000   29.000000    0.000000  1461.500000    0.732000    1.201000  \n",
       "75%      3.000000   30.000000    0.500000  1569.000000    0.756000    1.302750  \n",
       "max      5.000000   30.000000    2.000000  2004.000000    0.837000    1.587000  "
      ]
     },
     "execution_count": 21,
     "metadata": {},
     "output_type": "execute_result"
    }
   ],
   "source": [
    "# Show summary statistics\n",
    "df.describe()"
   ]
  },
  {
   "cell_type": "code",
   "execution_count": 22,
   "metadata": {},
   "outputs": [
    {
     "data": {
      "text/plain": [
       "array(['Nondemented', 'Demented', 'Converted'], dtype=object)"
      ]
     },
     "execution_count": 22,
     "metadata": {},
     "output_type": "execute_result"
    }
   ],
   "source": [
    "# Show unique values for the group column\n",
    "df['Group'].unique()"
   ]
  },
  {
   "cell_type": "code",
   "execution_count": 23,
   "metadata": {},
   "outputs": [
    {
     "data": {
      "text/plain": [
       "Unnamed: 0     0\n",
       "Subject ID     0\n",
       "MRI ID         0\n",
       "Group          0\n",
       "Visit          0\n",
       "MR Delay       0\n",
       "M/F            0\n",
       "Hand           0\n",
       "Age            0\n",
       "EDUC           0\n",
       "SES           15\n",
       "MMSE           1\n",
       "CDR            0\n",
       "eTIV           0\n",
       "nWBV           0\n",
       "ASF            0\n",
       "dtype: int64"
      ]
     },
     "execution_count": 23,
     "metadata": {},
     "output_type": "execute_result"
    }
   ],
   "source": [
    "# Check to see if we have any missing values, if so, we will do imputation\n",
    "# using the mean of the column.\n",
    "df.isnull().sum()"
   ]
  },
  {
   "cell_type": "code",
   "execution_count": 24,
   "metadata": {},
   "outputs": [
    {
     "data": {
      "text/plain": [
       "Unnamed: 0     0\n",
       "Subject ID     0\n",
       "MRI ID         0\n",
       "Group          0\n",
       "Visit          0\n",
       "MR Delay       0\n",
       "M/F            0\n",
       "Hand           0\n",
       "Age            0\n",
       "EDUC           0\n",
       "SES           15\n",
       "MMSE           0\n",
       "CDR            0\n",
       "eTIV           0\n",
       "nWBV           0\n",
       "ASF            0\n",
       "SEC            0\n",
       "dtype: int64"
      ]
     },
     "execution_count": 24,
     "metadata": {},
     "output_type": "execute_result"
    }
   ],
   "source": [
    "# Impute missing values for SES and MMSE columns\n",
    "df['SEC'] = df['SES'].fillna(df['SES'].mean())\n",
    "df['MMSE'] = df['MMSE'].fillna(df['MMSE'].mean())\n",
    "df.isnull().sum()"
   ]
  },
  {
   "cell_type": "code",
   "execution_count": 25,
   "metadata": {},
   "outputs": [
    {
     "data": {
      "image/png": "[encoded data removed]",
      "text/plain": [
       "<Figure size 640x480 with 1 Axes>"
      ]
     },
     "metadata": {},
     "output_type": "display_data"
    }
   ],
   "source": [
    "# Draw bargraph of the number of patients in each group\n",
    "sns.countplot(x='Group', data=df)\n",
    "plt.title('Number of Patients in Each Group')\n",
    "plt.show()"
   ]
  },
  {
   "cell_type": "code",
   "execution_count": 26,
   "metadata": {},
   "outputs": [
    {
     "data": {
      "image/png": "[encoded data removed]",
      "text/plain": [
       "<Figure size 640x480 with 1 Axes>"
      ]
     },
     "metadata": {},
     "output_type": "display_data"
    }
   ],
   "source": [
    "# Draw histogram of the MMSE scores\n",
    "sns.histplot(df['MMSE'], kde=True)\n",
    "plt.title('Histogram of MMSE Scores')\n",
    "plt.show()"
   ]
  },
  {
   "cell_type": "code",
   "execution_count": 27,
   "metadata": {},
   "outputs": [
    {
     "data": {
      "text/plain": [
       "array([1, 2], dtype=int64)"
      ]
     },
     "execution_count": 27,
     "metadata": {},
     "output_type": "execute_result"
    }
   ],
   "source": [
    "# Show unique values in 'Visit' column\n",
    "df['Visit'].unique()"
   ]
  },
  {
   "cell_type": "code",
   "execution_count": 28,
   "metadata": {},
   "outputs": [],
   "source": [
    "# Make Visit column a categorical variable\n",
    "df['Visit'] = df['Visit'].astype('category')"
   ]
  },
  {
   "cell_type": "code",
   "execution_count": 29,
   "metadata": {},
   "outputs": [
    {
     "data": {
      "text/plain": [
       "<Axes: xlabel='Visit', ylabel='count'>"
      ]
     },
     "execution_count": 29,
     "metadata": {},
     "output_type": "execute_result"
    },
    {
     "data": {
      "image/png": "[encoded data removed]",
      "text/plain": [
       "<Figure size 640x480 with 1 Axes>"
      ]
     },
     "metadata": {},
     "output_type": "display_data"
    }
   ],
   "source": [
    "# Draw bargraph of the number of patients in each visit\n",
    "sns.countplot(x='Visit', data=df)"
   ]
  },
  {
   "cell_type": "code",
   "execution_count": 30,
   "metadata": {},
   "outputs": [
    {
     "data": {
      "image/png": "[encoded data removed]",
      "text/plain": [
       "<Figure size 640x480 with 1 Axes>"
      ]
     },
     "metadata": {},
     "output_type": "display_data"
    }
   ],
   "source": [
    "# Pairwise boxplot for MMSE scores by group and visit\n",
    "sns.boxplot(x='Group', y='MMSE', hue='Visit', data=df)\n",
    "plt.title('Pairwise Boxplot of MMSE Scores by Group and Visit')\n",
    "plt.show()"
   ]
  },
  {
   "cell_type": "code",
   "execution_count": 31,
   "metadata": {},
   "outputs": [
    {
     "data": {
      "image/png": "[encoded data removed]",
      "text/plain": [
       "<Figure size 640x480 with 1 Axes>"
      ]
     },
     "metadata": {},
     "output_type": "display_data"
    }
   ],
   "source": [
    "# Draw interaction plot of Group and Visit on MMSE scores\n",
    "sns.pointplot(x='Group', y='MMSE', hue='Visit', data=df)\n",
    "plt.title('Interaction Plot of Group and Visit on MMSE Scores')\n",
    "plt.show()"
   ]
  },
  {
   "cell_type": "markdown",
   "metadata": {},
   "source": [
    "## Mixed-Effects ANOVA"
   ]
  },
  {
   "cell_type": "markdown",
   "metadata": {},
   "source": [
    "### Building the Model & Evaluating"
   ]
  },
  {
   "cell_type": "code",
   "execution_count": 32,
   "metadata": {},
   "outputs": [
    {
     "name": "stdout",
     "output_type": "stream",
     "text": [
      "\n",
      "=============\n",
      "ANOVA SUMMARY\n",
      "=============\n",
      "\n",
      "Source             SS    DF1    DF2       MS       F    p-unc    np2      eps\n",
      "-----------  --------  -----  -----  -------  ------  -------  -----  -------\n",
      "Group        1322.017      2    141  661.009  56.100    0.000  0.443  nan\n",
      "Visit          21.528      1    141   21.528   8.525    0.004  0.057    1.000\n",
      "Interaction    16.204      2    141    8.102   3.208    0.043  0.044  nan\n",
      "\n"
     ]
    }
   ],
   "source": [
    "# Model to answer the question: Is there a significant interaction between various groups of individuals (Nondemented, Demented, Converted), time, and the MMSE score?\n",
    "import pingouin as pg\n",
    "\n",
    "mixed_anova_model = pg.mixed_anova(\n",
    "    dv='MMSE',\n",
    "    within='Visit',\n",
    "    between='Group',\n",
    "    subject='Subject ID',\n",
    "    data=df\n",
    ")\n",
    "pg.print_table(mixed_anova_model)"
   ]
  },
  {
   "cell_type": "markdown",
   "metadata": {},
   "source": [
    "### Checking Assumptions"
   ]
  },
  {
   "cell_type": "code",
   "execution_count": 33,
   "metadata": {},
   "outputs": [
    {
     "data": {
      "text/html": [
       "<div>\n",
       "<style scoped>\n",
       "    .dataframe tbody tr th:only-of-type {\n",
       "        vertical-align: middle;\n",
       "    }\n",
       "\n",
       "    .dataframe tbody tr th {\n",
       "        vertical-align: top;\n",
       "    }\n",
       "\n",
       "    .dataframe thead th {\n",
       "        text-align: right;\n",
       "    }\n",
       "</style>\n",
       "<table border=\"1\" class=\"dataframe\">\n",
       "  <thead>\n",
       "    <tr style=\"text-align: right;\">\n",
       "      <th></th>\n",
       "      <th>W</th>\n",
       "      <th>pval</th>\n",
       "      <th>normal</th>\n",
       "    </tr>\n",
       "    <tr>\n",
       "      <th>Visit</th>\n",
       "      <th></th>\n",
       "      <th></th>\n",
       "      <th></th>\n",
       "    </tr>\n",
       "  </thead>\n",
       "  <tbody>\n",
       "    <tr>\n",
       "      <th>1</th>\n",
       "      <td>0.787462</td>\n",
       "      <td>1.761319e-13</td>\n",
       "      <td>False</td>\n",
       "    </tr>\n",
       "    <tr>\n",
       "      <th>2</th>\n",
       "      <td>0.761123</td>\n",
       "      <td>4.942098e-14</td>\n",
       "      <td>False</td>\n",
       "    </tr>\n",
       "  </tbody>\n",
       "</table>\n",
       "</div>"
      ],
      "text/plain": [
       "              W          pval  normal\n",
       "Visit                                \n",
       "1      0.787462  1.761319e-13   False\n",
       "2      0.761123  4.942098e-14   False"
      ]
     },
     "execution_count": 33,
     "metadata": {},
     "output_type": "execute_result"
    }
   ],
   "source": [
    "# Checking normality of residuals\n",
    "pg.normality(data=df, dv='MMSE', group='Visit')"
   ]
  },
  {
   "cell_type": "code",
   "execution_count": 34,
   "metadata": {},
   "outputs": [
    {
     "data": {
      "text/html": [
       "<div>\n",
       "<style scoped>\n",
       "    .dataframe tbody tr th:only-of-type {\n",
       "        vertical-align: middle;\n",
       "    }\n",
       "\n",
       "    .dataframe tbody tr th {\n",
       "        vertical-align: top;\n",
       "    }\n",
       "\n",
       "    .dataframe thead th {\n",
       "        text-align: right;\n",
       "    }\n",
       "</style>\n",
       "<table border=\"1\" class=\"dataframe\">\n",
       "  <thead>\n",
       "    <tr style=\"text-align: right;\">\n",
       "      <th></th>\n",
       "      <th>W</th>\n",
       "      <th>pval</th>\n",
       "      <th>equal_var</th>\n",
       "    </tr>\n",
       "  </thead>\n",
       "  <tbody>\n",
       "    <tr>\n",
       "      <th>levene</th>\n",
       "      <td>2.200486</td>\n",
       "      <td>0.139046</td>\n",
       "      <td>True</td>\n",
       "    </tr>\n",
       "  </tbody>\n",
       "</table>\n",
       "</div>"
      ],
      "text/plain": [
       "               W      pval  equal_var\n",
       "levene  2.200486  0.139046       True"
      ]
     },
     "execution_count": 34,
     "metadata": {},
     "output_type": "execute_result"
    }
   ],
   "source": [
    "# Checking homogeneity of variances\n",
    "pg.homoscedasticity(data=df, dv='MMSE', group='Visit')"
   ]
  },
  {
   "cell_type": "markdown",
   "metadata": {},
   "source": [
    "### Post-Hoc Tests"
   ]
  },
  {
   "cell_type": "code",
   "execution_count": 35,
   "metadata": {},
   "outputs": [
    {
     "name": "stderr",
     "output_type": "stream",
     "text": [
      "d:\\inf2178-a4\\venv\\Lib\\site-packages\\pingouin\\pairwise.py:28: UserWarning: pairwise_ttests is deprecated, use pairwise_tests instead.\n",
      "  warnings.warn(\"pairwise_ttests is deprecated, use pairwise_tests instead.\", UserWarning)\n",
      "d:\\inf2178-a4\\venv\\Lib\\site-packages\\pingouin\\pairwise.py:593: FutureWarning: A value is trying to be set on a copy of a DataFrame or Series through chained assignment using an inplace method.\n",
      "The behavior will change in pandas 3.0. This inplace method will never work because the intermediate object on which we are setting values always behaves as a copy.\n",
      "\n",
      "For example, when doing 'df[col].method(value, inplace=True)', try using 'df.method({col: value}, inplace=True)' or df[col] = df[col].method(value) instead, to perform the operation inplace on the original object.\n",
      "\n",
      "\n",
      "  stats[\"Time\"].fillna(\"-\", inplace=True)\n"
     ]
    },
    {
     "data": {
      "text/html": [
       "<div>\n",
       "<style scoped>\n",
       "    .dataframe tbody tr th:only-of-type {\n",
       "        vertical-align: middle;\n",
       "    }\n",
       "\n",
       "    .dataframe tbody tr th {\n",
       "        vertical-align: top;\n",
       "    }\n",
       "\n",
       "    .dataframe thead th {\n",
       "        text-align: right;\n",
       "    }\n",
       "</style>\n",
       "<table border=\"1\" class=\"dataframe\">\n",
       "  <thead>\n",
       "    <tr style=\"text-align: right;\">\n",
       "      <th></th>\n",
       "      <th>Contrast</th>\n",
       "      <th>Visit</th>\n",
       "      <th>A</th>\n",
       "      <th>B</th>\n",
       "      <th>Paired</th>\n",
       "      <th>Parametric</th>\n",
       "      <th>T</th>\n",
       "      <th>dof</th>\n",
       "      <th>alternative</th>\n",
       "      <th>p-unc</th>\n",
       "      <th>BF10</th>\n",
       "      <th>hedges</th>\n",
       "    </tr>\n",
       "  </thead>\n",
       "  <tbody>\n",
       "    <tr>\n",
       "      <th>0</th>\n",
       "      <td>Visit</td>\n",
       "      <td>-</td>\n",
       "      <td>1</td>\n",
       "      <td>2</td>\n",
       "      <td>True</td>\n",
       "      <td>True</td>\n",
       "      <td>2.875706</td>\n",
       "      <td>143.000000</td>\n",
       "      <td>two-sided</td>\n",
       "      <td>4.648185e-03</td>\n",
       "      <td>4.793</td>\n",
       "      <td>0.159217</td>\n",
       "    </tr>\n",
       "    <tr>\n",
       "      <th>1</th>\n",
       "      <td>Group</td>\n",
       "      <td>-</td>\n",
       "      <td>Converted</td>\n",
       "      <td>Demented</td>\n",
       "      <td>False</td>\n",
       "      <td>True</td>\n",
       "      <td>6.744844</td>\n",
       "      <td>50.479696</td>\n",
       "      <td>two-sided</td>\n",
       "      <td>1.441732e-08</td>\n",
       "      <td>2.189e+06</td>\n",
       "      <td>1.164072</td>\n",
       "    </tr>\n",
       "    <tr>\n",
       "      <th>2</th>\n",
       "      <td>Group</td>\n",
       "      <td>-</td>\n",
       "      <td>Converted</td>\n",
       "      <td>Nondemented</td>\n",
       "      <td>False</td>\n",
       "      <td>True</td>\n",
       "      <td>-1.302773</td>\n",
       "      <td>12.315304</td>\n",
       "      <td>two-sided</td>\n",
       "      <td>2.164867e-01</td>\n",
       "      <td>0.599</td>\n",
       "      <td>-0.583618</td>\n",
       "    </tr>\n",
       "    <tr>\n",
       "      <th>3</th>\n",
       "      <td>Group</td>\n",
       "      <td>-</td>\n",
       "      <td>Demented</td>\n",
       "      <td>Nondemented</td>\n",
       "      <td>False</td>\n",
       "      <td>True</td>\n",
       "      <td>-9.511779</td>\n",
       "      <td>65.514176</td>\n",
       "      <td>two-sided</td>\n",
       "      <td>5.813251e-14</td>\n",
       "      <td>3.306e+13</td>\n",
       "      <td>-1.744699</td>\n",
       "    </tr>\n",
       "    <tr>\n",
       "      <th>4</th>\n",
       "      <td>Visit * Group</td>\n",
       "      <td>1</td>\n",
       "      <td>Converted</td>\n",
       "      <td>Demented</td>\n",
       "      <td>False</td>\n",
       "      <td>True</td>\n",
       "      <td>8.075525</td>\n",
       "      <td>60.164789</td>\n",
       "      <td>two-sided</td>\n",
       "      <td>3.576357e-11</td>\n",
       "      <td>4.479e+08</td>\n",
       "      <td>1.319205</td>\n",
       "    </tr>\n",
       "    <tr>\n",
       "      <th>5</th>\n",
       "      <td>Visit * Group</td>\n",
       "      <td>1</td>\n",
       "      <td>Converted</td>\n",
       "      <td>Nondemented</td>\n",
       "      <td>False</td>\n",
       "      <td>True</td>\n",
       "      <td>0.488598</td>\n",
       "      <td>13.998626</td>\n",
       "      <td>two-sided</td>\n",
       "      <td>6.326918e-01</td>\n",
       "      <td>0.336</td>\n",
       "      <td>0.167118</td>\n",
       "    </tr>\n",
       "    <tr>\n",
       "      <th>6</th>\n",
       "      <td>Visit * Group</td>\n",
       "      <td>1</td>\n",
       "      <td>Demented</td>\n",
       "      <td>Nondemented</td>\n",
       "      <td>False</td>\n",
       "      <td>True</td>\n",
       "      <td>-9.123660</td>\n",
       "      <td>68.184593</td>\n",
       "      <td>two-sided</td>\n",
       "      <td>1.972696e-13</td>\n",
       "      <td>3.993e+12</td>\n",
       "      <td>-1.668947</td>\n",
       "    </tr>\n",
       "    <tr>\n",
       "      <th>7</th>\n",
       "      <td>Visit * Group</td>\n",
       "      <td>2</td>\n",
       "      <td>Converted</td>\n",
       "      <td>Demented</td>\n",
       "      <td>False</td>\n",
       "      <td>True</td>\n",
       "      <td>4.514900</td>\n",
       "      <td>33.371925</td>\n",
       "      <td>two-sided</td>\n",
       "      <td>7.490317e-05</td>\n",
       "      <td>693.697</td>\n",
       "      <td>0.890687</td>\n",
       "    </tr>\n",
       "    <tr>\n",
       "      <th>8</th>\n",
       "      <td>Visit * Group</td>\n",
       "      <td>2</td>\n",
       "      <td>Converted</td>\n",
       "      <td>Nondemented</td>\n",
       "      <td>False</td>\n",
       "      <td>True</td>\n",
       "      <td>-1.815516</td>\n",
       "      <td>11.801968</td>\n",
       "      <td>two-sided</td>\n",
       "      <td>9.491896e-02</td>\n",
       "      <td>1.126</td>\n",
       "      <td>-0.936718</td>\n",
       "    </tr>\n",
       "    <tr>\n",
       "      <th>9</th>\n",
       "      <td>Visit * Group</td>\n",
       "      <td>2</td>\n",
       "      <td>Demented</td>\n",
       "      <td>Nondemented</td>\n",
       "      <td>False</td>\n",
       "      <td>True</td>\n",
       "      <td>-8.480387</td>\n",
       "      <td>66.145468</td>\n",
       "      <td>two-sided</td>\n",
       "      <td>3.603765e-12</td>\n",
       "      <td>1.265e+11</td>\n",
       "      <td>-1.554495</td>\n",
       "    </tr>\n",
       "  </tbody>\n",
       "</table>\n",
       "</div>"
      ],
      "text/plain": [
       "        Contrast Visit          A            B Paired Parametric         T  \\\n",
       "0          Visit     -          1            2   True       True  2.875706   \n",
       "1          Group     -  Converted     Demented  False       True  6.744844   \n",
       "2          Group     -  Converted  Nondemented  False       True -1.302773   \n",
       "3          Group     -   Demented  Nondemented  False       True -9.511779   \n",
       "4  Visit * Group     1  Converted     Demented  False       True  8.075525   \n",
       "5  Visit * Group     1  Converted  Nondemented  False       True  0.488598   \n",
       "6  Visit * Group     1   Demented  Nondemented  False       True -9.123660   \n",
       "7  Visit * Group     2  Converted     Demented  False       True  4.514900   \n",
       "8  Visit * Group     2  Converted  Nondemented  False       True -1.815516   \n",
       "9  Visit * Group     2   Demented  Nondemented  False       True -8.480387   \n",
       "\n",
       "          dof alternative         p-unc       BF10    hedges  \n",
       "0  143.000000   two-sided  4.648185e-03      4.793  0.159217  \n",
       "1   50.479696   two-sided  1.441732e-08  2.189e+06  1.164072  \n",
       "2   12.315304   two-sided  2.164867e-01      0.599 -0.583618  \n",
       "3   65.514176   two-sided  5.813251e-14  3.306e+13 -1.744699  \n",
       "4   60.164789   two-sided  3.576357e-11  4.479e+08  1.319205  \n",
       "5   13.998626   two-sided  6.326918e-01      0.336  0.167118  \n",
       "6   68.184593   two-sided  1.972696e-13  3.993e+12 -1.668947  \n",
       "7   33.371925   two-sided  7.490317e-05    693.697  0.890687  \n",
       "8   11.801968   two-sided  9.491896e-02      1.126 -0.936718  \n",
       "9   66.145468   two-sided  3.603765e-12  1.265e+11 -1.554495  "
      ]
     },
     "execution_count": 35,
     "metadata": {},
     "output_type": "execute_result"
    }
   ],
   "source": [
    "pg.pairwise_ttests(\n",
    "    dv='MMSE',\n",
    "    within='Visit',\n",
    "    between='Group',\n",
    "    subject='Subject ID',\n",
    "    data=df\n",
    ")"
   ]
  },
  {
   "cell_type": "markdown",
   "metadata": {},
   "source": [
    "## Power Test"
   ]
  },
  {
   "cell_type": "code",
   "execution_count": 40,
   "metadata": {},
   "outputs": [
    {
     "data": {
      "text/plain": [
       "45.45073088927253"
      ]
     },
     "execution_count": 40,
     "metadata": {},
     "output_type": "execute_result"
    }
   ],
   "source": [
    "from statsmodels.stats.power import TTestIndPower\n",
    "\n",
    "power_analysis = TTestIndPower()\n",
    "power_analysis.solve_power(\n",
    "    effect_size = 0.7,\n",
    "    alpha = 0.05,\n",
    "    power = 0.91\n",
    ")"
   ]
  },
  {
   "cell_type": "code",
   "execution_count": 43,
   "metadata": {},
   "outputs": [
    {
     "data": {
      "image/png": "[encoded data removed]",
      "text/plain": [
       "<Figure size 640x480 with 1 Axes>"
      ]
     },
     "metadata": {},
     "output_type": "display_data"
    }
   ],
   "source": [
    "# Plot the power analysis curve\n",
    "power_analysis.plot_power(dep_var='nobs', nobs=np.array(range(5, 100)), effect_size=np.array([0.2, 0.5, 0.8]))\n",
    "plt.title('Power Analysis Curve')\n",
    "# Add X and Y lines\n",
    "plt.axhline(y=0.91, color='r', linestyle='--')\n",
    "plt.axvline(x=35, color='r', linestyle='--')\n",
    "plt.show()"
   ]
  }
 ],
 "metadata": {
  "kernelspec": {
   "display_name": "venv",
   "language": "python",
   "name": "python3"
  },
  "language_info": {
   "codemirror_mode": {
    "name": "ipython",
    "version": 3
   },
   "file_extension": ".py",
   "mimetype": "text/x-python",
   "name": "python",
   "nbconvert_exporter": "python",
   "pygments_lexer": "ipython3",
   "version": "3.12.2"
  }
 },
 "nbformat": 4,
 "nbformat_minor": 2
}
