{
 "cells": [
  {
   "cell_type": "markdown",
   "id": "943d9e16",
   "metadata": {},
   "source": [
    "# Loading and Viewing the Data"
   ]
  },
  {
   "cell_type": "code",
   "execution_count": 1,
   "id": "5442705f",
   "metadata": {},
   "outputs": [
    {
     "data": {
      "text/html": [
       "<div>\n",
       "<style scoped>\n",
       "    .dataframe tbody tr th:only-of-type {\n",
       "        vertical-align: middle;\n",
       "    }\n",
       "\n",
       "    .dataframe tbody tr th {\n",
       "        vertical-align: top;\n",
       "    }\n",
       "\n",
       "    .dataframe thead th {\n",
       "        text-align: right;\n",
       "    }\n",
       "</style>\n",
       "<table border=\"1\" class=\"dataframe\">\n",
       "  <thead>\n",
       "    <tr style=\"text-align: right;\">\n",
       "      <th></th>\n",
       "      <th>Unnamed: 0</th>\n",
       "      <th>Subject ID</th>\n",
       "      <th>MRI ID</th>\n",
       "      <th>Group</th>\n",
       "      <th>Visit</th>\n",
       "      <th>MR Delay</th>\n",
       "      <th>M/F</th>\n",
       "      <th>Hand</th>\n",
       "      <th>Age</th>\n",
       "      <th>EDUC</th>\n",
       "      <th>SES</th>\n",
       "      <th>MMSE</th>\n",
       "      <th>CDR</th>\n",
       "      <th>eTIV</th>\n",
       "      <th>nWBV</th>\n",
       "      <th>ASF</th>\n",
       "    </tr>\n",
       "  </thead>\n",
       "  <tbody>\n",
       "    <tr>\n",
       "      <th>0</th>\n",
       "      <td>0</td>\n",
       "      <td>OAS2_0001</td>\n",
       "      <td>OAS2_0001_MR1</td>\n",
       "      <td>Nondemented</td>\n",
       "      <td>1</td>\n",
       "      <td>0</td>\n",
       "      <td>M</td>\n",
       "      <td>R</td>\n",
       "      <td>87</td>\n",
       "      <td>14</td>\n",
       "      <td>2.0</td>\n",
       "      <td>27.0</td>\n",
       "      <td>0.0</td>\n",
       "      <td>1987</td>\n",
       "      <td>0.696</td>\n",
       "      <td>0.883</td>\n",
       "    </tr>\n",
       "    <tr>\n",
       "      <th>1</th>\n",
       "      <td>1</td>\n",
       "      <td>OAS2_0001</td>\n",
       "      <td>OAS2_0001_MR2</td>\n",
       "      <td>Nondemented</td>\n",
       "      <td>2</td>\n",
       "      <td>457</td>\n",
       "      <td>M</td>\n",
       "      <td>R</td>\n",
       "      <td>88</td>\n",
       "      <td>14</td>\n",
       "      <td>2.0</td>\n",
       "      <td>30.0</td>\n",
       "      <td>0.0</td>\n",
       "      <td>2004</td>\n",
       "      <td>0.681</td>\n",
       "      <td>0.876</td>\n",
       "    </tr>\n",
       "    <tr>\n",
       "      <th>2</th>\n",
       "      <td>2</td>\n",
       "      <td>OAS2_0002</td>\n",
       "      <td>OAS2_0002_MR1</td>\n",
       "      <td>Demented</td>\n",
       "      <td>1</td>\n",
       "      <td>0</td>\n",
       "      <td>M</td>\n",
       "      <td>R</td>\n",
       "      <td>75</td>\n",
       "      <td>12</td>\n",
       "      <td>NaN</td>\n",
       "      <td>23.0</td>\n",
       "      <td>0.5</td>\n",
       "      <td>1678</td>\n",
       "      <td>0.736</td>\n",
       "      <td>1.046</td>\n",
       "    </tr>\n",
       "    <tr>\n",
       "      <th>3</th>\n",
       "      <td>3</td>\n",
       "      <td>OAS2_0002</td>\n",
       "      <td>OAS2_0002_MR2</td>\n",
       "      <td>Demented</td>\n",
       "      <td>2</td>\n",
       "      <td>560</td>\n",
       "      <td>M</td>\n",
       "      <td>R</td>\n",
       "      <td>76</td>\n",
       "      <td>12</td>\n",
       "      <td>NaN</td>\n",
       "      <td>28.0</td>\n",
       "      <td>0.5</td>\n",
       "      <td>1738</td>\n",
       "      <td>0.713</td>\n",
       "      <td>1.010</td>\n",
       "    </tr>\n",
       "    <tr>\n",
       "      <th>4</th>\n",
       "      <td>5</td>\n",
       "      <td>OAS2_0004</td>\n",
       "      <td>OAS2_0004_MR1</td>\n",
       "      <td>Nondemented</td>\n",
       "      <td>1</td>\n",
       "      <td>0</td>\n",
       "      <td>F</td>\n",
       "      <td>R</td>\n",
       "      <td>88</td>\n",
       "      <td>18</td>\n",
       "      <td>3.0</td>\n",
       "      <td>28.0</td>\n",
       "      <td>0.0</td>\n",
       "      <td>1215</td>\n",
       "      <td>0.710</td>\n",
       "      <td>1.444</td>\n",
       "    </tr>\n",
       "    <tr>\n",
       "      <th>...</th>\n",
       "      <td>...</td>\n",
       "      <td>...</td>\n",
       "      <td>...</td>\n",
       "      <td>...</td>\n",
       "      <td>...</td>\n",
       "      <td>...</td>\n",
       "      <td>...</td>\n",
       "      <td>...</td>\n",
       "      <td>...</td>\n",
       "      <td>...</td>\n",
       "      <td>...</td>\n",
       "      <td>...</td>\n",
       "      <td>...</td>\n",
       "      <td>...</td>\n",
       "      <td>...</td>\n",
       "      <td>...</td>\n",
       "    </tr>\n",
       "    <tr>\n",
       "      <th>289</th>\n",
       "      <td>366</td>\n",
       "      <td>OAS2_0184</td>\n",
       "      <td>OAS2_0184_MR2</td>\n",
       "      <td>Demented</td>\n",
       "      <td>2</td>\n",
       "      <td>553</td>\n",
       "      <td>F</td>\n",
       "      <td>R</td>\n",
       "      <td>73</td>\n",
       "      <td>16</td>\n",
       "      <td>3.0</td>\n",
       "      <td>21.0</td>\n",
       "      <td>1.0</td>\n",
       "      <td>1351</td>\n",
       "      <td>0.708</td>\n",
       "      <td>1.299</td>\n",
       "    </tr>\n",
       "    <tr>\n",
       "      <th>290</th>\n",
       "      <td>367</td>\n",
       "      <td>OAS2_0185</td>\n",
       "      <td>OAS2_0185_MR1</td>\n",
       "      <td>Demented</td>\n",
       "      <td>1</td>\n",
       "      <td>0</td>\n",
       "      <td>M</td>\n",
       "      <td>R</td>\n",
       "      <td>80</td>\n",
       "      <td>16</td>\n",
       "      <td>1.0</td>\n",
       "      <td>28.0</td>\n",
       "      <td>0.5</td>\n",
       "      <td>1704</td>\n",
       "      <td>0.711</td>\n",
       "      <td>1.030</td>\n",
       "    </tr>\n",
       "    <tr>\n",
       "      <th>291</th>\n",
       "      <td>368</td>\n",
       "      <td>OAS2_0185</td>\n",
       "      <td>OAS2_0185_MR2</td>\n",
       "      <td>Demented</td>\n",
       "      <td>2</td>\n",
       "      <td>842</td>\n",
       "      <td>M</td>\n",
       "      <td>R</td>\n",
       "      <td>82</td>\n",
       "      <td>16</td>\n",
       "      <td>1.0</td>\n",
       "      <td>28.0</td>\n",
       "      <td>0.5</td>\n",
       "      <td>1693</td>\n",
       "      <td>0.694</td>\n",
       "      <td>1.037</td>\n",
       "    </tr>\n",
       "    <tr>\n",
       "      <th>292</th>\n",
       "      <td>370</td>\n",
       "      <td>OAS2_0186</td>\n",
       "      <td>OAS2_0186_MR1</td>\n",
       "      <td>Nondemented</td>\n",
       "      <td>1</td>\n",
       "      <td>0</td>\n",
       "      <td>F</td>\n",
       "      <td>R</td>\n",
       "      <td>61</td>\n",
       "      <td>13</td>\n",
       "      <td>2.0</td>\n",
       "      <td>30.0</td>\n",
       "      <td>0.0</td>\n",
       "      <td>1319</td>\n",
       "      <td>0.801</td>\n",
       "      <td>1.331</td>\n",
       "    </tr>\n",
       "    <tr>\n",
       "      <th>293</th>\n",
       "      <td>371</td>\n",
       "      <td>OAS2_0186</td>\n",
       "      <td>OAS2_0186_MR2</td>\n",
       "      <td>Nondemented</td>\n",
       "      <td>2</td>\n",
       "      <td>763</td>\n",
       "      <td>F</td>\n",
       "      <td>R</td>\n",
       "      <td>63</td>\n",
       "      <td>13</td>\n",
       "      <td>2.0</td>\n",
       "      <td>30.0</td>\n",
       "      <td>0.0</td>\n",
       "      <td>1327</td>\n",
       "      <td>0.796</td>\n",
       "      <td>1.323</td>\n",
       "    </tr>\n",
       "  </tbody>\n",
       "</table>\n",
       "<p>294 rows × 16 columns</p>\n",
       "</div>"
      ],
      "text/plain": [
       "     Unnamed: 0 Subject ID         MRI ID        Group  Visit  MR Delay M/F  \\\n",
       "0             0  OAS2_0001  OAS2_0001_MR1  Nondemented      1         0   M   \n",
       "1             1  OAS2_0001  OAS2_0001_MR2  Nondemented      2       457   M   \n",
       "2             2  OAS2_0002  OAS2_0002_MR1     Demented      1         0   M   \n",
       "3             3  OAS2_0002  OAS2_0002_MR2     Demented      2       560   M   \n",
       "4             5  OAS2_0004  OAS2_0004_MR1  Nondemented      1         0   F   \n",
       "..          ...        ...            ...          ...    ...       ...  ..   \n",
       "289         366  OAS2_0184  OAS2_0184_MR2     Demented      2       553   F   \n",
       "290         367  OAS2_0185  OAS2_0185_MR1     Demented      1         0   M   \n",
       "291         368  OAS2_0185  OAS2_0185_MR2     Demented      2       842   M   \n",
       "292         370  OAS2_0186  OAS2_0186_MR1  Nondemented      1         0   F   \n",
       "293         371  OAS2_0186  OAS2_0186_MR2  Nondemented      2       763   F   \n",
       "\n",
       "    Hand  Age  EDUC  SES  MMSE  CDR  eTIV   nWBV    ASF  \n",
       "0      R   87    14  2.0  27.0  0.0  1987  0.696  0.883  \n",
       "1      R   88    14  2.0  30.0  0.0  2004  0.681  0.876  \n",
       "2      R   75    12  NaN  23.0  0.5  1678  0.736  1.046  \n",
       "3      R   76    12  NaN  28.0  0.5  1738  0.713  1.010  \n",
       "4      R   88    18  3.0  28.0  0.0  1215  0.710  1.444  \n",
       "..   ...  ...   ...  ...   ...  ...   ...    ...    ...  \n",
       "289    R   73    16  3.0  21.0  1.0  1351  0.708  1.299  \n",
       "290    R   80    16  1.0  28.0  0.5  1704  0.711  1.030  \n",
       "291    R   82    16  1.0  28.0  0.5  1693  0.694  1.037  \n",
       "292    R   61    13  2.0  30.0  0.0  1319  0.801  1.331  \n",
       "293    R   63    13  2.0  30.0  0.0  1327  0.796  1.323  \n",
       "\n",
       "[294 rows x 16 columns]"
      ]
     },
     "execution_count": 1,
     "metadata": {},
     "output_type": "execute_result"
    }
   ],
   "source": [
    "#Name: Berke Derin Berktay\n",
    "#First, we need to import the necessary libraries that we are going to use further on into the study\n",
    "import pandas as pd\n",
    "import matplotlib.pyplot as plt\n",
    "import seaborn as sns\n",
    "import scipy.stats as stats\n",
    "import numpy as np\n",
    "import statsmodels.api as sm\n",
    "from statsmodels.formula.api import ols\n",
    "from bioinfokit.analys import stat\n",
    "#we first read the excel file's sheet labelled as 'ChildCareCentres'\n",
    "df = pd.read_csv('INF2178_A4_data.csv')\n",
    "df"
   ]
  },
  {
   "cell_type": "code",
   "execution_count": 2,
   "id": "cb752c47",
   "metadata": {},
   "outputs": [
    {
     "data": {
      "text/plain": [
       "<bound method NDFrame.head of      Unnamed: 0 Subject ID         MRI ID        Group  Visit  MR Delay M/F  \\\n",
       "0             0  OAS2_0001  OAS2_0001_MR1  Nondemented      1         0   M   \n",
       "1             1  OAS2_0001  OAS2_0001_MR2  Nondemented      2       457   M   \n",
       "2             2  OAS2_0002  OAS2_0002_MR1     Demented      1         0   M   \n",
       "3             3  OAS2_0002  OAS2_0002_MR2     Demented      2       560   M   \n",
       "4             5  OAS2_0004  OAS2_0004_MR1  Nondemented      1         0   F   \n",
       "..          ...        ...            ...          ...    ...       ...  ..   \n",
       "289         366  OAS2_0184  OAS2_0184_MR2     Demented      2       553   F   \n",
       "290         367  OAS2_0185  OAS2_0185_MR1     Demented      1         0   M   \n",
       "291         368  OAS2_0185  OAS2_0185_MR2     Demented      2       842   M   \n",
       "292         370  OAS2_0186  OAS2_0186_MR1  Nondemented      1         0   F   \n",
       "293         371  OAS2_0186  OAS2_0186_MR2  Nondemented      2       763   F   \n",
       "\n",
       "    Hand  Age  EDUC  SES  MMSE  CDR  eTIV   nWBV    ASF  \n",
       "0      R   87    14  2.0  27.0  0.0  1987  0.696  0.883  \n",
       "1      R   88    14  2.0  30.0  0.0  2004  0.681  0.876  \n",
       "2      R   75    12  NaN  23.0  0.5  1678  0.736  1.046  \n",
       "3      R   76    12  NaN  28.0  0.5  1738  0.713  1.010  \n",
       "4      R   88    18  3.0  28.0  0.0  1215  0.710  1.444  \n",
       "..   ...  ...   ...  ...   ...  ...   ...    ...    ...  \n",
       "289    R   73    16  3.0  21.0  1.0  1351  0.708  1.299  \n",
       "290    R   80    16  1.0  28.0  0.5  1704  0.711  1.030  \n",
       "291    R   82    16  1.0  28.0  0.5  1693  0.694  1.037  \n",
       "292    R   61    13  2.0  30.0  0.0  1319  0.801  1.331  \n",
       "293    R   63    13  2.0  30.0  0.0  1327  0.796  1.323  \n",
       "\n",
       "[294 rows x 16 columns]>"
      ]
     },
     "execution_count": 2,
     "metadata": {},
     "output_type": "execute_result"
    }
   ],
   "source": [
    "df.head #let us try to get the sense of the data by simply observing it"
   ]
  },
  {
   "cell_type": "markdown",
   "id": "ed808995",
   "metadata": {},
   "source": [
    "# Checking zero and null values"
   ]
  },
  {
   "cell_type": "code",
   "execution_count": 3,
   "id": "eb6efe31",
   "metadata": {},
   "outputs": [],
   "source": [
    "#First, let us perform some data wrangling to ensure that our data at hand is top notch.\n",
    "#Let us check the amount of null and 0 values for each variable to see if we should replace or delete \n",
    "#some of these values/columns if there are too many or too little missing.\n",
    "def emptyandzero(df):\n",
    "    empty_cells = df.isna().sum()\n",
    "    print(\"EMPTY CELL COUNTS:\")\n",
    "    print(empty_cells)\n",
    "    \n",
    "    numerics = df.select_dtypes(include=np.number)\n",
    "    zeroes = []\n",
    "    for i in range(len(numerics.columns)):\n",
    "        zeroes.append(numerics.columns[i])\n",
    "        zeroes.append((numerics[numerics.columns[i]] == 0).sum())\n",
    "    print(\"\\nZERO CELL COUNTS:\")\n",
    "    print(zeroes)\n",
    "    "
   ]
  },
  {
   "cell_type": "code",
   "execution_count": 4,
   "id": "bba3233d",
   "metadata": {},
   "outputs": [
    {
     "name": "stdout",
     "output_type": "stream",
     "text": [
      "EMPTY CELL COUNTS:\n",
      "Unnamed: 0     0\n",
      "Subject ID     0\n",
      "MRI ID         0\n",
      "Group          0\n",
      "Visit          0\n",
      "MR Delay       0\n",
      "M/F            0\n",
      "Hand           0\n",
      "Age            0\n",
      "EDUC           0\n",
      "SES           15\n",
      "MMSE           1\n",
      "CDR            0\n",
      "eTIV           0\n",
      "nWBV           0\n",
      "ASF            0\n",
      "dtype: int64\n",
      "\n",
      "ZERO CELL COUNTS:\n",
      "['Unnamed: 0', 1, 'Visit', 0, 'MR Delay', 150, 'Age', 0, 'EDUC', 0, 'SES', 0, 'MMSE', 0, 'CDR', 158, 'eTIV', 0, 'nWBV', 0, 'ASF', 0]\n"
     ]
    }
   ],
   "source": [
    "emptyandzero(df)"
   ]
  },
  {
   "cell_type": "code",
   "execution_count": 5,
   "id": "f5c4940c",
   "metadata": {},
   "outputs": [
    {
     "data": {
      "text/html": [
       "<div>\n",
       "<style scoped>\n",
       "    .dataframe tbody tr th:only-of-type {\n",
       "        vertical-align: middle;\n",
       "    }\n",
       "\n",
       "    .dataframe tbody tr th {\n",
       "        vertical-align: top;\n",
       "    }\n",
       "\n",
       "    .dataframe thead th {\n",
       "        text-align: right;\n",
       "    }\n",
       "</style>\n",
       "<table border=\"1\" class=\"dataframe\">\n",
       "  <thead>\n",
       "    <tr style=\"text-align: right;\">\n",
       "      <th></th>\n",
       "      <th>Unnamed: 0</th>\n",
       "      <th>Subject ID</th>\n",
       "      <th>MRI ID</th>\n",
       "      <th>Group</th>\n",
       "      <th>Visit</th>\n",
       "      <th>MR Delay</th>\n",
       "      <th>M/F</th>\n",
       "      <th>Hand</th>\n",
       "      <th>Age</th>\n",
       "      <th>EDUC</th>\n",
       "      <th>SES</th>\n",
       "      <th>MMSE</th>\n",
       "      <th>CDR</th>\n",
       "      <th>eTIV</th>\n",
       "      <th>nWBV</th>\n",
       "      <th>ASF</th>\n",
       "    </tr>\n",
       "  </thead>\n",
       "  <tbody>\n",
       "    <tr>\n",
       "      <th>282</th>\n",
       "      <td>357</td>\n",
       "      <td>OAS2_0181</td>\n",
       "      <td>OAS2_0181_MR2</td>\n",
       "      <td>Demented</td>\n",
       "      <td>2</td>\n",
       "      <td>539</td>\n",
       "      <td>F</td>\n",
       "      <td>R</td>\n",
       "      <td>75</td>\n",
       "      <td>12</td>\n",
       "      <td>NaN</td>\n",
       "      <td>NaN</td>\n",
       "      <td>1.0</td>\n",
       "      <td>1169</td>\n",
       "      <td>0.742</td>\n",
       "      <td>1.501</td>\n",
       "    </tr>\n",
       "  </tbody>\n",
       "</table>\n",
       "</div>"
      ],
      "text/plain": [
       "     Unnamed: 0 Subject ID         MRI ID     Group  Visit  MR Delay M/F Hand  \\\n",
       "282         357  OAS2_0181  OAS2_0181_MR2  Demented      2       539   F    R   \n",
       "\n",
       "     Age  EDUC  SES  MMSE  CDR  eTIV   nWBV    ASF  \n",
       "282   75    12  NaN   NaN  1.0  1169  0.742  1.501  "
      ]
     },
     "execution_count": 5,
     "metadata": {},
     "output_type": "execute_result"
    }
   ],
   "source": [
    "# the only relavant null value is for the MMSE, so lets display that row firs to figure out why its empty and then delete it\n",
    "df[df['MMSE'].isnull()]"
   ]
  },
  {
   "cell_type": "code",
   "execution_count": 6,
   "id": "61824079",
   "metadata": {},
   "outputs": [],
   "source": [
    "df = df.dropna(subset=['MMSE'])"
   ]
  },
  {
   "cell_type": "markdown",
   "id": "67d4115c",
   "metadata": {},
   "source": [
    "# Feature Engineering"
   ]
  },
  {
   "cell_type": "code",
   "execution_count": 7,
   "id": "44f7804f",
   "metadata": {},
   "outputs": [],
   "source": [
    "#Now, let us perform some feature engineering to see if we can delete some useless columns and/or create useful ones"
   ]
  },
  {
   "cell_type": "code",
   "execution_count": 8,
   "id": "4c5b213d",
   "metadata": {},
   "outputs": [
    {
     "data": {
      "text/plain": [
       "<bound method NDFrame.head of     Subject ID  Visit M/F  MMSE\n",
       "0    OAS2_0001      1   M  27.0\n",
       "1    OAS2_0001      2   M  30.0\n",
       "2    OAS2_0002      1   M  23.0\n",
       "3    OAS2_0002      2   M  28.0\n",
       "4    OAS2_0004      1   F  28.0\n",
       "..         ...    ...  ..   ...\n",
       "289  OAS2_0184      2   F  21.0\n",
       "290  OAS2_0185      1   M  28.0\n",
       "291  OAS2_0185      2   M  28.0\n",
       "292  OAS2_0186      1   F  30.0\n",
       "293  OAS2_0186      2   F  30.0\n",
       "\n",
       "[293 rows x 4 columns]>"
      ]
     },
     "execution_count": 8,
     "metadata": {},
     "output_type": "execute_result"
    }
   ],
   "source": [
    "#Throughout the analysis, it is pointless to keep several columns that we do not need to from now on due \n",
    "#to the new columns or are simply pointless such as incomeinthousands\n",
    "df = df.drop(['Unnamed: 0'], axis=1)\n",
    "df = df.drop(['MRI ID'], axis=1)\n",
    "df = df.drop(['Group'], axis=1)\n",
    "df = df.drop(['MR Delay'], axis=1)\n",
    "df = df.drop(['Hand'], axis=1)\n",
    "df = df.drop(['Age'], axis=1)\n",
    "df = df.drop(['EDUC'], axis=1)\n",
    "df = df.drop(['SES'], axis=1)\n",
    "df = df.drop(['CDR'], axis=1)\n",
    "df = df.drop(['eTIV'], axis=1)\n",
    "df = df.drop(['nWBV'], axis=1)\n",
    "df = df.drop(['ASF'], axis=1)\n",
    "\n",
    "df.head #check with a random entry"
   ]
  },
  {
   "cell_type": "code",
   "execution_count": 9,
   "id": "806a76ec",
   "metadata": {},
   "outputs": [
    {
     "name": "stdout",
     "output_type": "stream",
     "text": [
      "IDs with 1 entries: 7\n",
      "IDs with 2 entries: 143\n"
     ]
    }
   ],
   "source": [
    "#lets count the amount of visit counts in total for all of the individuals\n",
    "id_counts = df.groupby('Subject ID').size()\n",
    "\n",
    "# Count how many IDs have 1, 2, or 3 entries\n",
    "entries_count = id_counts.value_counts().sort_index()\n",
    "\n",
    "# Display the amount of IDs that have 1, 2, and 3 entries\n",
    "for entries, count in entries_count.items():\n",
    "    print(f\"IDs with {entries} entries: {count}\")"
   ]
  },
  {
   "cell_type": "code",
   "execution_count": 10,
   "id": "f712bb29",
   "metadata": {},
   "outputs": [
    {
     "name": "stdout",
     "output_type": "stream",
     "text": [
      "IDs with 2 entries: 143\n"
     ]
    }
   ],
   "source": [
    "#now for our purposes we delete the ID with a single entry\n",
    "single_entry_ids = id_counts[id_counts == 1].index\n",
    "df = df[~df['Subject ID'].isin(single_entry_ids)]\n",
    "\n",
    "id_counts = df.groupby('Subject ID').size()\n",
    "# Count how many IDs have 1, 2, or 3 entries\n",
    "entries_count = id_counts.value_counts().sort_index()\n",
    "for entries, count in entries_count.items():\n",
    "    print(f\"IDs with {entries} entries: {count}\")"
   ]
  },
  {
   "cell_type": "markdown",
   "id": "9b214593",
   "metadata": {},
   "source": [
    "# Exploratory Data Analysis"
   ]
  },
  {
   "cell_type": "code",
   "execution_count": 12,
   "id": "ecc5b494",
   "metadata": {},
   "outputs": [
    {
     "name": "stderr",
     "output_type": "stream",
     "text": [
      "/var/folders/dv/x_yhvm8x1vj_7019b6vm83pr0000gn/T/ipykernel_69382/1023765658.py:1: SettingWithCopyWarning: \n",
      "A value is trying to be set on a copy of a slice from a DataFrame\n",
      "\n",
      "See the caveats in the documentation: https://pandas.pydata.org/pandas-docs/stable/user_guide/indexing.html#returning-a-view-versus-a-copy\n",
      "  df.sort_values(by=['Subject ID', 'Visit'], inplace=True)\n"
     ]
    },
    {
     "data": {
      "image/png": "[encoded data removed]",
      "text/plain": [
       "<Figure size 640x480 with 1 Axes>"
      ]
     },
     "metadata": {},
     "output_type": "display_data"
    }
   ],
   "source": [
    "df.sort_values(by=['Subject ID', 'Visit'], inplace=True)\n",
    "average_mmse_by_gender_visit = df.groupby(['M/F', 'Visit'])['MMSE'].mean().unstack()\n",
    "fig, ax = plt.subplots()\n",
    "average_mmse_by_gender_visit.T.plot(kind='line', marker='o', ax=ax)\n",
    "ax.set_xlabel('Visit')\n",
    "ax.set_ylabel('Average MMSE')\n",
    "ax.set_title('Average MMSE Scores by Gender Across Visits')\n",
    "ax.set_xticks([1, 2])\n",
    "ax.set_xticklabels(['First Visit', 'Second Visit'])\n",
    "ax.grid(True)\n",
    "\n",
    "plt.legend(title='Gender')\n",
    "plt.show()"
   ]
  },
  {
   "cell_type": "code",
   "execution_count": 13,
   "id": "f8c66496",
   "metadata": {},
   "outputs": [
    {
     "data": {
      "text/plain": [
       "<Axes: xlabel='Visit', ylabel='MMSE'>"
      ]
     },
     "execution_count": 13,
     "metadata": {},
     "output_type": "execute_result"
    },
    {
     "data": {
      "image/png": "[encoded data removed]",
      "text/plain": [
       "<Figure size 640x480 with 1 Axes>"
      ]
     },
     "metadata": {},
     "output_type": "display_data"
    }
   ],
   "source": [
    "sns.set()\n",
    "sns.pointplot(data=df, x='Visit', y='MMSE', hue='M/F', dodge=True, markers=['o', 's'],\n",
    "\t      capsize=.1, errwidth=1, palette='colorblind')"
   ]
  },
  {
   "cell_type": "code",
   "execution_count": 14,
   "id": "f3dc6d48",
   "metadata": {},
   "outputs": [],
   "source": [
    "def summary_stats(label): #Baseline function that we will use for repetition prevention purposes\n",
    "    \n",
    "    mean = np.round(np.mean(label), 2)\n",
    "    median = np.round(np.median(label), 2)\n",
    "    minval = np.round(label.min(), 2)\n",
    "    maxval = np.round(label.max(), 2)\n",
    "    quartile1 = np.round(label.quantile(0.25), 2)\n",
    "    quartile3 = np.round(label.quantile(0.75), 2)\n",
    "    iqr = np.round(quartile3 - quartile1, 2) #computations for the EDA\n",
    "    \n",
    "    print('Min: %s' % minval)\n",
    "    print('Max: %s' % maxval)\n",
    "    print('Mean: %s' % mean)\n",
    "    print('25th percentile: %s' % quartile1)\n",
    "    print('Median: %s' % median)\n",
    "    print('75th percentile: %s' % quartile3)\n",
    "    print('IQR : %s' % iqr)"
   ]
  },
  {
   "cell_type": "code",
   "execution_count": 15,
   "id": "bc77c77e",
   "metadata": {},
   "outputs": [
    {
     "name": "stdout",
     "output_type": "stream",
     "text": [
      "\n",
      "Summary Statistics for Visit 1 and Gender F:\n",
      "Min: 19.0\n",
      "Max: 30.0\n",
      "Mean: 28.07\n",
      "25th percentile: 27.0\n",
      "Median: 29.0\n",
      "75th percentile: 30.0\n",
      "IQR : 3.0\n",
      "\n",
      "Summary Statistics for Visit 1 and Gender M:\n",
      "Min: 17.0\n",
      "Max: 30.0\n",
      "Mean: 26.69\n",
      "25th percentile: 25.0\n",
      "Median: 28.0\n",
      "75th percentile: 29.0\n",
      "IQR : 4.0\n",
      "\n",
      "Summary Statistics for Visit 2 and Gender F:\n",
      "Min: 15.0\n",
      "Max: 30.0\n",
      "Mean: 27.31\n",
      "25th percentile: 27.0\n",
      "Median: 28.5\n",
      "75th percentile: 30.0\n",
      "IQR : 3.0\n",
      "\n",
      "Summary Statistics for Visit 2 and Gender M:\n",
      "Min: 15.0\n",
      "Max: 30.0\n",
      "Mean: 26.42\n",
      "25th percentile: 25.0\n",
      "Median: 28.0\n",
      "75th percentile: 29.0\n",
      "IQR : 4.0\n"
     ]
    }
   ],
   "source": [
    "for (visit, gender), group_data in df.groupby(['Visit', 'M/F']):\n",
    "    print(f\"\\nSummary Statistics for Visit {visit} and Gender {gender}:\")\n",
    "    summary_stats(group_data['MMSE'])\n"
   ]
  },
  {
   "cell_type": "code",
   "execution_count": 16,
   "id": "aaae21d5",
   "metadata": {},
   "outputs": [
    {
     "data": {
      "text/html": [
       "<div>\n",
       "<style scoped>\n",
       "    .dataframe tbody tr th:only-of-type {\n",
       "        vertical-align: middle;\n",
       "    }\n",
       "\n",
       "    .dataframe tbody tr th {\n",
       "        vertical-align: top;\n",
       "    }\n",
       "\n",
       "    .dataframe thead th {\n",
       "        text-align: right;\n",
       "    }\n",
       "</style>\n",
       "<table border=\"1\" class=\"dataframe\">\n",
       "  <thead>\n",
       "    <tr style=\"text-align: right;\">\n",
       "      <th></th>\n",
       "      <th></th>\n",
       "      <th>mean</th>\n",
       "      <th>std</th>\n",
       "    </tr>\n",
       "    <tr>\n",
       "      <th>Visit</th>\n",
       "      <th>M/F</th>\n",
       "      <th></th>\n",
       "      <th></th>\n",
       "    </tr>\n",
       "  </thead>\n",
       "  <tbody>\n",
       "    <tr>\n",
       "      <th rowspan=\"2\" valign=\"top\">1</th>\n",
       "      <th>F</th>\n",
       "      <td>28.07</td>\n",
       "      <td>2.62</td>\n",
       "    </tr>\n",
       "    <tr>\n",
       "      <th>M</th>\n",
       "      <td>26.69</td>\n",
       "      <td>3.36</td>\n",
       "    </tr>\n",
       "    <tr>\n",
       "      <th rowspan=\"2\" valign=\"top\">2</th>\n",
       "      <th>F</th>\n",
       "      <td>27.31</td>\n",
       "      <td>3.41</td>\n",
       "    </tr>\n",
       "    <tr>\n",
       "      <th>M</th>\n",
       "      <td>26.42</td>\n",
       "      <td>4.30</td>\n",
       "    </tr>\n",
       "  </tbody>\n",
       "</table>\n",
       "</div>"
      ],
      "text/plain": [
       "            mean   std\n",
       "Visit M/F             \n",
       "1     F    28.07  2.62\n",
       "      M    26.69  3.36\n",
       "2     F    27.31  3.41\n",
       "      M    26.42  4.30"
      ]
     },
     "execution_count": 16,
     "metadata": {},
     "output_type": "execute_result"
    }
   ],
   "source": [
    "df.groupby(['Visit', 'M/F'])['MMSE'].agg(['mean', 'std']).round(2)"
   ]
  },
  {
   "cell_type": "markdown",
   "id": "9f8f25b7",
   "metadata": {},
   "source": [
    "# Mixed-Effect ANOVA and Assumptions"
   ]
  },
  {
   "cell_type": "code",
   "execution_count": 17,
   "id": "086398ce",
   "metadata": {},
   "outputs": [
    {
     "data": {
      "text/plain": [
       "<bound method NDFrame.head of     Subject ID  Visit M/F  MMSE\n",
       "0    OAS2_0001      1   M  27.0\n",
       "1    OAS2_0001      2   M  30.0\n",
       "2    OAS2_0002      1   M  23.0\n",
       "3    OAS2_0002      2   M  28.0\n",
       "4    OAS2_0004      1   F  28.0\n",
       "..         ...    ...  ..   ...\n",
       "289  OAS2_0184      2   F  21.0\n",
       "290  OAS2_0185      1   M  28.0\n",
       "291  OAS2_0185      2   M  28.0\n",
       "292  OAS2_0186      1   F  30.0\n",
       "293  OAS2_0186      2   F  30.0\n",
       "\n",
       "[286 rows x 4 columns]>"
      ]
     },
     "execution_count": 17,
     "metadata": {},
     "output_type": "execute_result"
    }
   ],
   "source": [
    "df.head"
   ]
  },
  {
   "cell_type": "code",
   "execution_count": 18,
   "id": "753e35d1",
   "metadata": {},
   "outputs": [],
   "source": [
    "import pingouin as pg"
   ]
  },
  {
   "cell_type": "code",
   "execution_count": 19,
   "id": "5db39547",
   "metadata": {},
   "outputs": [
    {
     "name": "stdout",
     "output_type": "stream",
     "text": [
      "\n",
      "=============\n",
      "ANOVA SUMMARY\n",
      "=============\n",
      "\n",
      "Source           SS    DF1    DF2      MS      F    p-unc    np2      eps\n",
      "-----------  ------  -----  -----  ------  -----  -------  -----  -------\n",
      "M/F          88.689      1    141  88.689  4.321    0.039  0.030  nan\n",
      "Visit        22.378      1    141  22.378  8.610    0.004  0.058    1.000\n",
      "Interaction   4.173      1    141   4.173  1.606    0.207  0.011  nan\n",
      "\n"
     ]
    }
   ],
   "source": [
    "# Compute the two-way mixed-design ANOVA\n",
    "aov = pg.mixed_anova(dv='MMSE', within='Visit', between='M/F', subject='Subject ID', data=df)\n",
    "pg.print_table(aov)"
   ]
  },
  {
   "cell_type": "code",
   "execution_count": 20,
   "id": "a24794b5",
   "metadata": {},
   "outputs": [
    {
     "name": "stdout",
     "output_type": "stream",
     "text": [
      "\n",
      "==============\n",
      "POST HOC TESTS\n",
      "==============\n",
      "\n",
      "Contrast     Visit    A    B    Paired    Parametric        T      dof  alternative      p-unc    BF10    hedges\n",
      "-----------  -------  ---  ---  --------  ------------  -----  -------  -------------  -------  ------  --------\n",
      "Visit        -        1    2    True      True          2.928  142.000  two-sided        0.004   5.530     0.162\n",
      "M/F          -        F    M    False     True          1.990  104.517  two-sided        0.049   1.098     0.351\n",
      "Visit * M/F  1        F    M    False     True          2.633  104.908  two-sided        0.010   4.138     0.464\n",
      "Visit * M/F  2        F    M    False     True          1.319  106.117  two-sided        0.190   0.402     0.232\n",
      "\n"
     ]
    },
    {
     "name": "stderr",
     "output_type": "stream",
     "text": [
      "/Users/derinberktay/anaconda3/lib/python3.10/site-packages/pingouin/pairwise.py:28: UserWarning: pairwise_ttests is deprecated, use pairwise_tests instead.\n",
      "  warnings.warn(\"pairwise_ttests is deprecated, use pairwise_tests instead.\", UserWarning)\n",
      "/Users/derinberktay/anaconda3/lib/python3.10/site-packages/scipy/stats/_continuous_distns.py:6832: RuntimeWarning: overflow encountered in _nct_sf\n",
      "  return np.clip(_boost._nct_sf(x, df, nc), 0, 1)\n",
      "/Users/derinberktay/anaconda3/lib/python3.10/site-packages/scipy/stats/_continuous_distns.py:6826: RuntimeWarning: overflow encountered in _nct_cdf\n",
      "  return np.clip(_boost._nct_cdf(x, df, nc), 0, 1)\n",
      "/Users/derinberktay/anaconda3/lib/python3.10/site-packages/scipy/stats/_continuous_distns.py:6832: RuntimeWarning: overflow encountered in _nct_sf\n",
      "  return np.clip(_boost._nct_sf(x, df, nc), 0, 1)\n",
      "/Users/derinberktay/anaconda3/lib/python3.10/site-packages/scipy/stats/_continuous_distns.py:6826: RuntimeWarning: overflow encountered in _nct_cdf\n",
      "  return np.clip(_boost._nct_cdf(x, df, nc), 0, 1)\n",
      "/Users/derinberktay/anaconda3/lib/python3.10/site-packages/scipy/stats/_continuous_distns.py:6832: RuntimeWarning: overflow encountered in _nct_sf\n",
      "  return np.clip(_boost._nct_sf(x, df, nc), 0, 1)\n",
      "/Users/derinberktay/anaconda3/lib/python3.10/site-packages/scipy/stats/_continuous_distns.py:6826: RuntimeWarning: overflow encountered in _nct_cdf\n",
      "  return np.clip(_boost._nct_cdf(x, df, nc), 0, 1)\n"
     ]
    }
   ],
   "source": [
    "posthocs = pg.pairwise_ttests(dv='MMSE', within='Visit', between='M/F',\n",
    "                              subject='Subject ID', data=df)\n",
    "pg.print_table(posthocs)"
   ]
  },
  {
   "cell_type": "code",
   "execution_count": 22,
   "id": "c38b5939",
   "metadata": {},
   "outputs": [
    {
     "data": {
      "text/plain": [
       "1.0"
      ]
     },
     "execution_count": 22,
     "metadata": {},
     "output_type": "execute_result"
    }
   ],
   "source": [
    "#checking assumptions\n",
    "#mauchly's test of spericity\n",
    "pg.sphericity(data=df, dv='MMSE', subject='Subject ID', within='Visit')[-1]\n"
   ]
  },
  {
   "cell_type": "code",
   "execution_count": 23,
   "id": "47d310c8",
   "metadata": {},
   "outputs": [
    {
     "data": {
      "text/html": [
       "<div>\n",
       "<style scoped>\n",
       "    .dataframe tbody tr th:only-of-type {\n",
       "        vertical-align: middle;\n",
       "    }\n",
       "\n",
       "    .dataframe tbody tr th {\n",
       "        vertical-align: top;\n",
       "    }\n",
       "\n",
       "    .dataframe thead th {\n",
       "        text-align: right;\n",
       "    }\n",
       "</style>\n",
       "<table border=\"1\" class=\"dataframe\">\n",
       "  <thead>\n",
       "    <tr style=\"text-align: right;\">\n",
       "      <th></th>\n",
       "      <th>W</th>\n",
       "      <th>pval</th>\n",
       "      <th>normal</th>\n",
       "    </tr>\n",
       "    <tr>\n",
       "      <th>Visit</th>\n",
       "      <th></th>\n",
       "      <th></th>\n",
       "      <th></th>\n",
       "    </tr>\n",
       "  </thead>\n",
       "  <tbody>\n",
       "    <tr>\n",
       "      <th>1</th>\n",
       "      <td>0.792239</td>\n",
       "      <td>5.775022e-13</td>\n",
       "      <td>False</td>\n",
       "    </tr>\n",
       "    <tr>\n",
       "      <th>2</th>\n",
       "      <td>0.760727</td>\n",
       "      <td>5.430537e-14</td>\n",
       "      <td>False</td>\n",
       "    </tr>\n",
       "  </tbody>\n",
       "</table>\n",
       "</div>"
      ],
      "text/plain": [
       "              W          pval  normal\n",
       "Visit                                \n",
       "1      0.792239  5.775022e-13   False\n",
       "2      0.760727  5.430537e-14   False"
      ]
     },
     "execution_count": 23,
     "metadata": {},
     "output_type": "execute_result"
    }
   ],
   "source": [
    "#test of normality\n",
    "pg.normality(data=df, dv='MMSE', group='Visit')     "
   ]
  },
  {
   "cell_type": "code",
   "execution_count": 24,
   "id": "c1114188",
   "metadata": {},
   "outputs": [
    {
     "name": "stderr",
     "output_type": "stream",
     "text": [
      "/Users/derinberktay/anaconda3/lib/python3.10/site-packages/scipy/stats/_continuous_distns.py:6832: RuntimeWarning: invalid value encountered in _nct_sf\n",
      "  return np.clip(_boost._nct_sf(x, df, nc), 0, 1)\n",
      "/Users/derinberktay/anaconda3/lib/python3.10/site-packages/scipy/stats/_continuous_distns.py:6826: RuntimeWarning: invalid value encountered in _nct_cdf\n",
      "  return np.clip(_boost._nct_cdf(x, df, nc), 0, 1)\n",
      "/Users/derinberktay/anaconda3/lib/python3.10/site-packages/scipy/stats/_continuous_distns.py:6832: RuntimeWarning: overflow encountered in _nct_sf\n",
      "  return np.clip(_boost._nct_sf(x, df, nc), 0, 1)\n",
      "/Users/derinberktay/anaconda3/lib/python3.10/site-packages/scipy/stats/_continuous_distns.py:6826: RuntimeWarning: overflow encountered in _nct_cdf\n",
      "  return np.clip(_boost._nct_cdf(x, df, nc), 0, 1)\n"
     ]
    },
    {
     "data": {
      "image/png": "[encoded data removed]",
      "text/plain": [
       "<Figure size 1200x600 with 1 Axes>"
      ]
     },
     "metadata": {},
     "output_type": "display_data"
    },
    {
     "name": "stdout",
     "output_type": "stream",
     "text": [
      "Required sample size: 45\n"
     ]
    }
   ],
   "source": [
    "from statsmodels.stats.power import TTestIndPower\n",
    "\n",
    "# Parameters\n",
    "effect_size = 0.7\n",
    "alpha = 0.05\n",
    "power = 0.91\n",
    "\n",
    "# Initialize power analysis object\n",
    "power_analysis = TTestIndPower()\n",
    "\n",
    "# Calculate required sample size\n",
    "sample_size = power_analysis.solve_power(effect_size=effect_size, power=power, alpha=alpha, ratio=1.0)\n",
    "sample_size = round(sample_size)\n",
    "\n",
    "# Generate power curve\n",
    "sample_sizes = np.linspace(5, 100, 95)\n",
    "powers = power_analysis.power(effect_size=effect_size, nobs1=sample_sizes, alpha=alpha, ratio=1.0)\n",
    "\n",
    "# Plotting\n",
    "plt.figure(figsize=(12, 6))\n",
    "plt.plot(sample_sizes, powers, label='Power Curve', color='blue')\n",
    "plt.axhline(y=power, color='red', linestyle='--', label=f'Desired Power = {power}')\n",
    "plt.axvline(x=sample_size, color='green', linestyle='--', label=f'Required Sample Size = {sample_size}')\n",
    "plt.title('Power Analysis for t-Tests')\n",
    "plt.xlabel('Sample Size')\n",
    "plt.ylabel('Power')\n",
    "plt.legend()\n",
    "plt.grid(True)\n",
    "plt.show()\n",
    "\n",
    "print(f\"Required sample size: {sample_size}\")"
   ]
  }
 ],
 "metadata": {
  "kernelspec": {
   "display_name": "Python 3 (ipykernel)",
   "language": "python",
   "name": "python3"
  },
  "language_info": {
   "codemirror_mode": {
    "name": "ipython",
    "version": 3
   },
   "file_extension": ".py",
   "mimetype": "text/x-python",
   "name": "python",
   "nbconvert_exporter": "python",
   "pygments_lexer": "ipython3",
   "version": "3.10.9"
  }
 },
 "nbformat": 4,
 "nbformat_minor": 5
}
