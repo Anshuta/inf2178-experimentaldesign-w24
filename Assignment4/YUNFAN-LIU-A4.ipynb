{
 "cells": [
  {
   "cell_type": "code",
   "execution_count": 1,
   "id": "5dab3add",
   "metadata": {},
   "outputs": [
    {
     "name": "stdout",
     "output_type": "stream",
     "text": [
      "Requirement already satisfied: pingouin in /Users/yunfanliu/anaconda3/lib/python3.11/site-packages (0.5.4)\n",
      "Requirement already satisfied: numpy in /Users/yunfanliu/anaconda3/lib/python3.11/site-packages (from pingouin) (1.24.3)\n",
      "Requirement already satisfied: scipy in /Users/yunfanliu/anaconda3/lib/python3.11/site-packages (from pingouin) (1.10.1)\n",
      "Requirement already satisfied: pandas>=1.5 in /Users/yunfanliu/anaconda3/lib/python3.11/site-packages (from pingouin) (1.5.3)\n",
      "Requirement already satisfied: matplotlib in /Users/yunfanliu/anaconda3/lib/python3.11/site-packages (from pingouin) (3.7.1)\n",
      "Requirement already satisfied: seaborn in /Users/yunfanliu/anaconda3/lib/python3.11/site-packages (from pingouin) (0.12.2)\n",
      "Requirement already satisfied: statsmodels in /Users/yunfanliu/anaconda3/lib/python3.11/site-packages (from pingouin) (0.14.0)\n",
      "Requirement already satisfied: scikit-learn in /Users/yunfanliu/anaconda3/lib/python3.11/site-packages (from pingouin) (1.3.0)\n",
      "Requirement already satisfied: pandas-flavor in /Users/yunfanliu/anaconda3/lib/python3.11/site-packages (from pingouin) (0.6.0)\n",
      "Requirement already satisfied: tabulate in /Users/yunfanliu/anaconda3/lib/python3.11/site-packages (from pingouin) (0.8.10)\n",
      "Requirement already satisfied: python-dateutil>=2.8.1 in /Users/yunfanliu/anaconda3/lib/python3.11/site-packages (from pandas>=1.5->pingouin) (2.8.2)\n",
      "Requirement already satisfied: pytz>=2020.1 in /Users/yunfanliu/anaconda3/lib/python3.11/site-packages (from pandas>=1.5->pingouin) (2022.7)\n",
      "Requirement already satisfied: contourpy>=1.0.1 in /Users/yunfanliu/anaconda3/lib/python3.11/site-packages (from matplotlib->pingouin) (1.0.5)\n",
      "Requirement already satisfied: cycler>=0.10 in /Users/yunfanliu/anaconda3/lib/python3.11/site-packages (from matplotlib->pingouin) (0.11.0)\n",
      "Requirement already satisfied: fonttools>=4.22.0 in /Users/yunfanliu/anaconda3/lib/python3.11/site-packages (from matplotlib->pingouin) (4.25.0)\n",
      "Requirement already satisfied: kiwisolver>=1.0.1 in /Users/yunfanliu/anaconda3/lib/python3.11/site-packages (from matplotlib->pingouin) (1.4.4)\n",
      "Requirement already satisfied: packaging>=20.0 in /Users/yunfanliu/anaconda3/lib/python3.11/site-packages (from matplotlib->pingouin) (23.0)\n",
      "Requirement already satisfied: pillow>=6.2.0 in /Users/yunfanliu/anaconda3/lib/python3.11/site-packages (from matplotlib->pingouin) (9.4.0)\n",
      "Requirement already satisfied: pyparsing>=2.3.1 in /Users/yunfanliu/anaconda3/lib/python3.11/site-packages (from matplotlib->pingouin) (3.0.9)\n",
      "Requirement already satisfied: xarray in /Users/yunfanliu/anaconda3/lib/python3.11/site-packages (from pandas-flavor->pingouin) (2023.6.0)\n",
      "Requirement already satisfied: joblib>=1.1.1 in /Users/yunfanliu/anaconda3/lib/python3.11/site-packages (from scikit-learn->pingouin) (1.2.0)\n",
      "Requirement already satisfied: threadpoolctl>=2.0.0 in /Users/yunfanliu/anaconda3/lib/python3.11/site-packages (from scikit-learn->pingouin) (2.2.0)\n",
      "Requirement already satisfied: patsy>=0.5.2 in /Users/yunfanliu/anaconda3/lib/python3.11/site-packages (from statsmodels->pingouin) (0.5.3)\n",
      "Requirement already satisfied: six in /Users/yunfanliu/anaconda3/lib/python3.11/site-packages (from patsy>=0.5.2->statsmodels->pingouin) (1.16.0)\n"
     ]
    }
   ],
   "source": [
    "import pandas as pd\n",
    "import numpy as np\n",
    "import matplotlib.pyplot as plt\n",
    "import seaborn as sns\n",
    "!pip install pingouin\n",
    "import pingouin as pg\n",
    "from math import sqrt\n",
    "from statsmodels.stats.power import TTestIndPower\n",
    "from statsmodels.stats.power import TTestPower"
   ]
  },
  {
   "cell_type": "code",
   "execution_count": 2,
   "id": "793637bd",
   "metadata": {},
   "outputs": [
    {
     "name": "stdout",
     "output_type": "stream",
     "text": [
      "(294, 16)\n"
     ]
    },
    {
     "data": {
      "text/html": [
       "<div>\n",
       "<style scoped>\n",
       "    .dataframe tbody tr th:only-of-type {\n",
       "        vertical-align: middle;\n",
       "    }\n",
       "\n",
       "    .dataframe tbody tr th {\n",
       "        vertical-align: top;\n",
       "    }\n",
       "\n",
       "    .dataframe thead th {\n",
       "        text-align: right;\n",
       "    }\n",
       "</style>\n",
       "<table border=\"1\" class=\"dataframe\">\n",
       "  <thead>\n",
       "    <tr style=\"text-align: right;\">\n",
       "      <th></th>\n",
       "      <th>Subject ID</th>\n",
       "      <th>Group</th>\n",
       "      <th>Visit</th>\n",
       "      <th>M/F</th>\n",
       "      <th>MMSE</th>\n",
       "      <th>nWBV</th>\n",
       "    </tr>\n",
       "  </thead>\n",
       "  <tbody>\n",
       "    <tr>\n",
       "      <th>0</th>\n",
       "      <td>OAS2_0001</td>\n",
       "      <td>Nondemented</td>\n",
       "      <td>1</td>\n",
       "      <td>M</td>\n",
       "      <td>27.0</td>\n",
       "      <td>0.696</td>\n",
       "    </tr>\n",
       "    <tr>\n",
       "      <th>1</th>\n",
       "      <td>OAS2_0001</td>\n",
       "      <td>Nondemented</td>\n",
       "      <td>2</td>\n",
       "      <td>M</td>\n",
       "      <td>30.0</td>\n",
       "      <td>0.681</td>\n",
       "    </tr>\n",
       "    <tr>\n",
       "      <th>2</th>\n",
       "      <td>OAS2_0002</td>\n",
       "      <td>Demented</td>\n",
       "      <td>1</td>\n",
       "      <td>M</td>\n",
       "      <td>23.0</td>\n",
       "      <td>0.736</td>\n",
       "    </tr>\n",
       "    <tr>\n",
       "      <th>3</th>\n",
       "      <td>OAS2_0002</td>\n",
       "      <td>Demented</td>\n",
       "      <td>2</td>\n",
       "      <td>M</td>\n",
       "      <td>28.0</td>\n",
       "      <td>0.713</td>\n",
       "    </tr>\n",
       "    <tr>\n",
       "      <th>4</th>\n",
       "      <td>OAS2_0004</td>\n",
       "      <td>Nondemented</td>\n",
       "      <td>1</td>\n",
       "      <td>F</td>\n",
       "      <td>28.0</td>\n",
       "      <td>0.710</td>\n",
       "    </tr>\n",
       "  </tbody>\n",
       "</table>\n",
       "</div>"
      ],
      "text/plain": [
       "  Subject ID        Group  Visit M/F  MMSE   nWBV\n",
       "0  OAS2_0001  Nondemented      1   M  27.0  0.696\n",
       "1  OAS2_0001  Nondemented      2   M  30.0  0.681\n",
       "2  OAS2_0002     Demented      1   M  23.0  0.736\n",
       "3  OAS2_0002     Demented      2   M  28.0  0.713\n",
       "4  OAS2_0004  Nondemented      1   F  28.0  0.710"
      ]
     },
     "execution_count": 2,
     "metadata": {},
     "output_type": "execute_result"
    }
   ],
   "source": [
    "df = pd.read_csv(\"/Users/yunfanliu/Desktop/INF2178_A4_data.csv\")#read the data with currect path\n",
    "print(df.shape) #check the shape of raw data\n",
    "df = df[['Subject ID','Group','Visit','M/F','MMSE','nWBV']]# choose the necessary columns \n",
    "df.head()"
   ]
  },
  {
   "cell_type": "code",
   "execution_count": 3,
   "id": "5fd474a0",
   "metadata": {},
   "outputs": [
    {
     "name": "stdout",
     "output_type": "stream",
     "text": [
      "<class 'pandas.core.frame.DataFrame'>\n",
      "RangeIndex: 294 entries, 0 to 293\n",
      "Data columns (total 6 columns):\n",
      " #   Column      Non-Null Count  Dtype  \n",
      "---  ------      --------------  -----  \n",
      " 0   Subject ID  294 non-null    object \n",
      " 1   Group       294 non-null    object \n",
      " 2   Visit       294 non-null    int64  \n",
      " 3   M/F         294 non-null    object \n",
      " 4   MMSE        293 non-null    float64\n",
      " 5   nWBV        294 non-null    float64\n",
      "dtypes: float64(2), int64(1), object(3)\n",
      "memory usage: 13.9+ KB\n"
     ]
    }
   ],
   "source": [
    "df.info()"
   ]
  },
  {
   "cell_type": "markdown",
   "id": "d3cb5ecb",
   "metadata": {},
   "source": [
    "Based on the statistical summary of the data\n",
    "\n",
    "- The dataset has a total of 294 entries with 6 features .\n",
    "- One feature is recognized as integer type (int64), 2 features are recognized as float types, 3 features are recognized as object types\n",
    "- There is one missing values in MMSE, I will use the mean value to fill in the null value of MMSE."
   ]
  },
  {
   "cell_type": "code",
   "execution_count": 4,
   "id": "877fe305",
   "metadata": {},
   "outputs": [
    {
     "name": "stdout",
     "output_type": "stream",
     "text": [
      "<class 'pandas.core.frame.DataFrame'>\n",
      "RangeIndex: 294 entries, 0 to 293\n",
      "Data columns (total 6 columns):\n",
      " #   Column      Non-Null Count  Dtype  \n",
      "---  ------      --------------  -----  \n",
      " 0   Subject ID  294 non-null    object \n",
      " 1   Group       294 non-null    object \n",
      " 2   Visit       294 non-null    int64  \n",
      " 3   M/F         294 non-null    object \n",
      " 4   MMSE        294 non-null    float64\n",
      " 5   nWBV        294 non-null    float64\n",
      "dtypes: float64(2), int64(1), object(3)\n",
      "memory usage: 13.9+ KB\n"
     ]
    }
   ],
   "source": [
    "mmse_mean = df['MMSE'].mean()\n",
    "df['MMSE'] = df['MMSE'].fillna(mmse_mean)\n",
    "df.info()"
   ]
  },
  {
   "cell_type": "markdown",
   "id": "4cd0a8b7",
   "metadata": {},
   "source": [
    "## EDA"
   ]
  },
  {
   "cell_type": "code",
   "execution_count": 5,
   "id": "0c8927a9",
   "metadata": {},
   "outputs": [
    {
     "data": {
      "image/png": "[encoded data removed]",
      "text/plain": [
       "<Figure size 640x480 with 1 Axes>"
      ]
     },
     "metadata": {},
     "output_type": "display_data"
    }
   ],
   "source": [
    "# Shows how the standardized whole brain volume of subjects in different gender with the number of visits\n",
    "sns.set()\n",
    "model1_plot = sns.pointplot(data=df, x='Visit', y='nWBV', hue='M/F', dodge=True, markers=['o', 's'],\n",
    "\t      capsize=.1, errwidth=1, palette='colorblind')\n",
    "model1_plot.set_title('Normalized Whole Brain Volume Over Visits by gender')\n",
    "plt.legend(title='Gender', loc='upper left', bbox_to_anchor=(1, 1))\n",
    "plt.show()"
   ]
  },
  {
   "cell_type": "markdown",
   "id": "6a639116",
   "metadata": {},
   "source": [
    "The image shows that between the two visits, there is a downward trend in nWBV for both males and females, with a particularly noticeable decrease in females during the second visit, which narrows the gap between the two genders; moreover, the error bars are relatively longer in the second visit, indicating a greater degree of internal variability."
   ]
  },
  {
   "cell_type": "code",
   "execution_count": 6,
   "id": "072d342c",
   "metadata": {},
   "outputs": [
    {
     "data": {
      "text/html": [
       "<div>\n",
       "<style scoped>\n",
       "    .dataframe tbody tr th:only-of-type {\n",
       "        vertical-align: middle;\n",
       "    }\n",
       "\n",
       "    .dataframe tbody tr th {\n",
       "        vertical-align: top;\n",
       "    }\n",
       "\n",
       "    .dataframe thead th {\n",
       "        text-align: right;\n",
       "    }\n",
       "</style>\n",
       "<table border=\"1\" class=\"dataframe\">\n",
       "  <thead>\n",
       "    <tr style=\"text-align: right;\">\n",
       "      <th></th>\n",
       "      <th></th>\n",
       "      <th>mean</th>\n",
       "      <th>std</th>\n",
       "    </tr>\n",
       "    <tr>\n",
       "      <th>Visit</th>\n",
       "      <th>M/F</th>\n",
       "      <th></th>\n",
       "      <th></th>\n",
       "    </tr>\n",
       "  </thead>\n",
       "  <tbody>\n",
       "    <tr>\n",
       "      <th rowspan=\"2\" valign=\"top\">1</th>\n",
       "      <th>F</th>\n",
       "      <td>0.74</td>\n",
       "      <td>0.04</td>\n",
       "    </tr>\n",
       "    <tr>\n",
       "      <th>M</th>\n",
       "      <td>0.73</td>\n",
       "      <td>0.04</td>\n",
       "    </tr>\n",
       "    <tr>\n",
       "      <th rowspan=\"2\" valign=\"top\">2</th>\n",
       "      <th>F</th>\n",
       "      <td>0.73</td>\n",
       "      <td>0.04</td>\n",
       "    </tr>\n",
       "    <tr>\n",
       "      <th>M</th>\n",
       "      <td>0.72</td>\n",
       "      <td>0.04</td>\n",
       "    </tr>\n",
       "  </tbody>\n",
       "</table>\n",
       "</div>"
      ],
      "text/plain": [
       "           mean   std\n",
       "Visit M/F            \n",
       "1     F    0.74  0.04\n",
       "      M    0.73  0.04\n",
       "2     F    0.73  0.04\n",
       "      M    0.72  0.04"
      ]
     },
     "execution_count": 6,
     "metadata": {},
     "output_type": "execute_result"
    }
   ],
   "source": [
    "df.groupby(['Visit', 'M/F'])['nWBV'].agg(['mean', 'std']).round(2)"
   ]
  },
  {
   "cell_type": "markdown",
   "id": "c4bc9cb6",
   "metadata": {},
   "source": [
    "Overall, from the first to the second visit, the nWBV decreased across all genserd. Additionally, the standard deviation remained relatively stable for all groups across both visits, indicating that the variability of the nWBV measurements within gender did not change significantly between the two visits."
   ]
  },
  {
   "cell_type": "code",
   "execution_count": 7,
   "id": "304b9eb1",
   "metadata": {},
   "outputs": [
    {
     "data": {
      "image/png": "[encoded data removed]",
      "text/plain": [
       "<Figure size 640x480 with 1 Axes>"
      ]
     },
     "metadata": {},
     "output_type": "display_data"
    }
   ],
   "source": [
    "# Shows how the Mini Mental State Examination Score of subjects in different group with the number of visits\n",
    "sns.set()\n",
    "model1_plot = sns.pointplot(data=df, x='Visit', y='MMSE', hue='Group', dodge=True, markers=['o', 's','D'],\n",
    "\t      capsize=.1, errwidth=1, palette='colorblind')\n",
    "model1_plot.set_title('Mini Mental State Examination Score Over Visits by Group')\n",
    "plt.legend(title='Group', loc='upper left', bbox_to_anchor=(1, 1))\n",
    "plt.show()"
   ]
  },
  {
   "cell_type": "markdown",
   "id": "7bfb5a60",
   "metadata": {},
   "source": [
    "The chart illustrates that for the MMSE scores, the 'Nondemented' group experienced a slight decrease, while the 'Demented' group and the 'Converted' group showed significant declines. Additionally, the 'Demented' group and the 'Converted' group displayed larger error bars during the second visit, indicating increased internal variability within these groups."
   ]
  },
  {
   "cell_type": "code",
   "execution_count": 8,
   "id": "9765839d",
   "metadata": {},
   "outputs": [
    {
     "data": {
      "text/html": [
       "<div>\n",
       "<style scoped>\n",
       "    .dataframe tbody tr th:only-of-type {\n",
       "        vertical-align: middle;\n",
       "    }\n",
       "\n",
       "    .dataframe tbody tr th {\n",
       "        vertical-align: top;\n",
       "    }\n",
       "\n",
       "    .dataframe thead th {\n",
       "        text-align: right;\n",
       "    }\n",
       "</style>\n",
       "<table border=\"1\" class=\"dataframe\">\n",
       "  <thead>\n",
       "    <tr style=\"text-align: right;\">\n",
       "      <th></th>\n",
       "      <th></th>\n",
       "      <th>mean</th>\n",
       "      <th>std</th>\n",
       "    </tr>\n",
       "    <tr>\n",
       "      <th>Visit</th>\n",
       "      <th>Group</th>\n",
       "      <th></th>\n",
       "      <th></th>\n",
       "    </tr>\n",
       "  </thead>\n",
       "  <tbody>\n",
       "    <tr>\n",
       "      <th rowspan=\"3\" valign=\"top\">1</th>\n",
       "      <th>Converted</th>\n",
       "      <td>29.36</td>\n",
       "      <td>0.93</td>\n",
       "    </tr>\n",
       "    <tr>\n",
       "      <th>Demented</th>\n",
       "      <td>25.33</td>\n",
       "      <td>3.32</td>\n",
       "    </tr>\n",
       "    <tr>\n",
       "      <th>Nondemented</th>\n",
       "      <td>29.19</td>\n",
       "      <td>0.85</td>\n",
       "    </tr>\n",
       "    <tr>\n",
       "      <th rowspan=\"3\" valign=\"top\">2</th>\n",
       "      <th>Converted</th>\n",
       "      <td>28.00</td>\n",
       "      <td>2.09</td>\n",
       "    </tr>\n",
       "    <tr>\n",
       "      <th>Demented</th>\n",
       "      <td>24.29</td>\n",
       "      <td>4.38</td>\n",
       "    </tr>\n",
       "    <tr>\n",
       "      <th>Nondemented</th>\n",
       "      <td>29.11</td>\n",
       "      <td>0.96</td>\n",
       "    </tr>\n",
       "  </tbody>\n",
       "</table>\n",
       "</div>"
      ],
      "text/plain": [
       "                    mean   std\n",
       "Visit Group                   \n",
       "1     Converted    29.36  0.93\n",
       "      Demented     25.33  3.32\n",
       "      Nondemented  29.19  0.85\n",
       "2     Converted    28.00  2.09\n",
       "      Demented     24.29  4.38\n",
       "      Nondemented  29.11  0.96"
      ]
     },
     "execution_count": 8,
     "metadata": {},
     "output_type": "execute_result"
    }
   ],
   "source": [
    "df.groupby(['Visit', 'Group'])['MMSE'].agg(['mean', 'std']).round(2)"
   ]
  },
  {
   "cell_type": "markdown",
   "id": "fe050501",
   "metadata": {},
   "source": [
    "Overall, from the first to the second visit, the MMSE decreased across all group. Additionally, the variability of the MMSE measurements of the 'Demented' group and the 'Converted' group had significant changes."
   ]
  },
  {
   "cell_type": "markdown",
   "id": "14ffd5ca",
   "metadata": {},
   "source": [
    "# Mixed-Effects ANOVA"
   ]
  },
  {
   "cell_type": "markdown",
   "id": "154ebb67",
   "metadata": {},
   "source": [
    "## Mixed-design ANOVA Model 1"
   ]
  },
  {
   "cell_type": "markdown",
   "id": "5a66e6de",
   "metadata": {},
   "source": [
    "1. For Gender:\n",
    "   - H0 : There is no difference in nWBV among the different gender.\n",
    "   - H1: There is a difference in nWBV between genders.\n",
    "2. For Visit:\n",
    "   - H0 : There is no change in nWBV across the different visits.\n",
    "   - H1: There is a change in nWBV following at least one visit.\n",
    "3. For the Interaction effect (Group*Visit):\n",
    "   - H0: There is no interaction effect of gender and visit on nWBV.\n",
    "   - H1: There is an interaction effect of gender and visit on nWBV."
   ]
  },
  {
   "cell_type": "code",
   "execution_count": 9,
   "id": "9b0d1b30",
   "metadata": {},
   "outputs": [
    {
     "name": "stdout",
     "output_type": "stream",
     "text": [
      "\n",
      "=============\n",
      "ANOVA SUMMARY\n",
      "=============\n",
      "\n",
      "Source          SS    DF1    DF2     MS       F    p-unc    np2      eps\n",
      "-----------  -----  -----  -----  -----  ------  -------  -----  -------\n",
      "M/F          0.021      1    142  0.021   8.030    0.005  0.054  nan\n",
      "Visit        0.007      1    142  0.007  93.305    0.000  0.397    1.000\n",
      "Interaction  0.000      1    142  0.000   0.621    0.432  0.004  nan\n",
      "\n"
     ]
    }
   ],
   "source": [
    "# Compute the two-way mixed-design ANOVA\n",
    "aov = pg.mixed_anova(dv='nWBV', within='Visit', between='M/F', subject='Subject ID', data=df)\n",
    "# Pretty printing of ANOVA summary\n",
    "pg.print_table(aov)"
   ]
  },
  {
   "cell_type": "markdown",
   "id": "ceaa8ad6",
   "metadata": {},
   "source": [
    "The gender effect  shows F=8.030, p=0.005<0.05, indicating that we have sufficient evidence to reject the null hypothesis, i.e there is no difference in nWBV between the different gender.\n",
    "The visit effect shows F=93.305, p<0.001, indicating that we have sufficient evidence to reject the null hypothesis, i.e. there is no change in nWBV across the different gender.\n",
    "The interaction effect (Gender*Visit) shows F=0.621, p=0.432 > 0.05, indicating that we do not have sufficient evidence to reject the null hypothesis, i.e.there is no interaction effect of gender and visit on nWBV.\n",
    "Eps: was used for the Mauchly's test for the visit effect, which yielded a result of 1.000, implying that the assumption of homogeneity of variances is satisfied."
   ]
  },
  {
   "cell_type": "code",
   "execution_count": 10,
   "id": "a8be974b",
   "metadata": {},
   "outputs": [
    {
     "name": "stdout",
     "output_type": "stream",
     "text": [
      "\n",
      "==============\n",
      "POST HOC TESTS\n",
      "==============\n",
      "\n",
      "Contrast     Visit    A    B    Paired    Parametric        T      dof  alternative      p-unc                 BF10    hedges\n",
      "-----------  -------  ---  ---  --------  ------------  -----  -------  -------------  -------  -------------------  --------\n",
      "Visit        -        1    2    True      True          9.672  143.000  two-sided        0.000  225800000000000.000     0.255\n",
      "M/F          -        F    M    False     True          2.821  122.930  two-sided        0.006                6.506     0.478\n",
      "Visit * M/F  1        F    M    False     True          2.974  124.056  two-sided        0.004                9.607     0.502\n",
      "Visit * M/F  2        F    M    False     True          2.608  122.876  two-sided        0.010                3.902     0.442\n",
      "\n"
     ]
    },
    {
     "name": "stderr",
     "output_type": "stream",
     "text": [
      "/Users/yunfanliu/anaconda3/lib/python3.11/site-packages/pingouin/pairwise.py:28: UserWarning: pairwise_ttests is deprecated, use pairwise_tests instead.\n",
      "  warnings.warn(\"pairwise_ttests is deprecated, use pairwise_tests instead.\", UserWarning)\n",
      "/Users/yunfanliu/anaconda3/lib/python3.11/site-packages/scipy/stats/_continuous_distns.py:6832: RuntimeWarning: overflow encountered in _nct_sf\n",
      "  return np.clip(_boost._nct_sf(x, df, nc), 0, 1)\n",
      "/Users/yunfanliu/anaconda3/lib/python3.11/site-packages/scipy/stats/_continuous_distns.py:6826: RuntimeWarning: overflow encountered in _nct_cdf\n",
      "  return np.clip(_boost._nct_cdf(x, df, nc), 0, 1)\n",
      "/Users/yunfanliu/anaconda3/lib/python3.11/site-packages/scipy/stats/_continuous_distns.py:6832: RuntimeWarning: overflow encountered in _nct_sf\n",
      "  return np.clip(_boost._nct_sf(x, df, nc), 0, 1)\n",
      "/Users/yunfanliu/anaconda3/lib/python3.11/site-packages/scipy/stats/_continuous_distns.py:6826: RuntimeWarning: overflow encountered in _nct_cdf\n",
      "  return np.clip(_boost._nct_cdf(x, df, nc), 0, 1)\n",
      "/Users/yunfanliu/anaconda3/lib/python3.11/site-packages/scipy/stats/_continuous_distns.py:6832: RuntimeWarning: overflow encountered in _nct_sf\n",
      "  return np.clip(_boost._nct_sf(x, df, nc), 0, 1)\n",
      "/Users/yunfanliu/anaconda3/lib/python3.11/site-packages/scipy/stats/_continuous_distns.py:6826: RuntimeWarning: overflow encountered in _nct_cdf\n",
      "  return np.clip(_boost._nct_cdf(x, df, nc), 0, 1)\n",
      "/Users/yunfanliu/anaconda3/lib/python3.11/site-packages/scipy/stats/_continuous_distns.py:6832: RuntimeWarning: overflow encountered in _nct_sf\n",
      "  return np.clip(_boost._nct_sf(x, df, nc), 0, 1)\n",
      "/Users/yunfanliu/anaconda3/lib/python3.11/site-packages/scipy/stats/_continuous_distns.py:6826: RuntimeWarning: overflow encountered in _nct_cdf\n",
      "  return np.clip(_boost._nct_cdf(x, df, nc), 0, 1)\n"
     ]
    }
   ],
   "source": [
    "#Post Hoc Tests\n",
    "posthocs = pg.pairwise_ttests(dv='nWBV', within='Visit', between='M/F',\n",
    "                              subject='Subject ID', data=df)\n",
    "pg.print_table(posthocs)"
   ]
  },
  {
   "cell_type": "markdown",
   "id": "63b06e4c",
   "metadata": {},
   "source": [
    "Between visits, the p-value is less than 0.001, indicating that we have sufficient evidence to reject the null hypothesis, which suggests that there is a significant change in nWBV between the two visits.\n",
    "Between genders, the p-value is less than 0.05, indicating that there is a significant difference in nWBV between genders.\n",
    "For the interaction effect between genders at Visit 1 and Visit 2, the p-value is less than 0.05, indicating that the influence of gender and number of visits on nWBV is not independent but interactive."
   ]
  },
  {
   "cell_type": "markdown",
   "id": "6cf4c79f",
   "metadata": {},
   "source": [
    "## Mixed-design ANOVA model2"
   ]
  },
  {
   "cell_type": "markdown",
   "id": "307eb152",
   "metadata": {},
   "source": [
    "1. For Group:\n",
    "   - H0 : There is no difference in MMSE scores between the different groups of subjects.\n",
    "   - H1: There is a significant difference in MMSE scores between at least two groups of subjects.\n",
    "2. For Visit:\n",
    "   - H0 :  There is no change in MMSE scores across the different visits for subjects.\n",
    "   - H1: There is a significant change in MMSE scores at least following one visit for subjects.\n",
    "3. For the Interaction effect (Group*Visit):\n",
    "   - H0: There is no interaction effect between group and visit on MMSE scores.\n",
    "   - H1:  There is a significant interaction effect between group and visit on MMSE scores."
   ]
  },
  {
   "cell_type": "code",
   "execution_count": 11,
   "id": "5d21bf8e",
   "metadata": {},
   "outputs": [
    {
     "name": "stdout",
     "output_type": "stream",
     "text": [
      "\n",
      "=============\n",
      "ANOVA SUMMARY\n",
      "=============\n",
      "\n",
      "Source             SS    DF1    DF2       MS       F    p-unc    np2      eps\n",
      "-----------  --------  -----  -----  -------  ------  -------  -----  -------\n",
      "Group        1322.017      2    141  661.009  56.100    0.000  0.443  nan\n",
      "Visit          21.528      1    141   21.528   8.525    0.004  0.057    1.000\n",
      "Interaction    16.204      2    141    8.102   3.208    0.043  0.044  nan\n",
      "\n"
     ]
    }
   ],
   "source": [
    "# Compute the two-way mixed-design ANOVA\n",
    "aov = pg.mixed_anova(dv='MMSE', within='Visit', between='Group', subject='Subject ID', data=df)\n",
    "# Pretty printing of ANOVA summary\n",
    "pg.print_table(aov)"
   ]
  },
  {
   "cell_type": "markdown",
   "id": "55372e38",
   "metadata": {},
   "source": [
    "The group effect shows F=56.100, p<0.001, indicating that we have sufficient evidence to reject the null hypothesis, i.e there is no difference in MMSE scores between the different groups of subjects. The visit effect shows F=8.525, p<0.05, indicating that we have sufficient evidence to reject the null hypothesis, i.e. thereis no change in MMSE scores across the different visits for subjects. The interaction effect (Group*Visit) shows F=3.208, p<0.05, indicating that we have sufficient evidence to reject the null hypothesis, i.e.there is no interaction effect between group and visit on MMSE scores. Eps: was used for the Mauchly's test for the visit effect, which yielded a result of 1.000, implying that the assumption of homogeneity of variances is satisfied."
   ]
  },
  {
   "cell_type": "code",
   "execution_count": 12,
   "id": "2f43a29e",
   "metadata": {},
   "outputs": [
    {
     "name": "stdout",
     "output_type": "stream",
     "text": [
      "\n",
      "==============\n",
      "POST HOC TESTS\n",
      "==============\n",
      "\n",
      "Contrast       Visit    A          B            Paired    Parametric         T      dof  alternative      p-unc                BF10    hedges\n",
      "-------------  -------  ---------  -----------  --------  ------------  ------  -------  -------------  -------  ------------------  --------\n",
      "Visit          -        1          2            True      True           2.876  143.000  two-sided        0.005               4.793     0.159\n",
      "Group          -        Converted  Demented     False     True           6.745   50.480  two-sided        0.000         2189000.000     1.164\n",
      "Group          -        Converted  Nondemented  False     True          -1.303   12.315  two-sided        0.216               0.599    -0.584\n",
      "Group          -        Demented   Nondemented  False     True          -9.512   65.514  two-sided        0.000  33060000000000.000    -1.745\n",
      "Visit * Group  1        Converted  Demented     False     True           8.076   60.165  two-sided        0.000       447900000.000     1.319\n",
      "Visit * Group  1        Converted  Nondemented  False     True           0.489   13.999  two-sided        0.633               0.336     0.167\n",
      "Visit * Group  1        Demented   Nondemented  False     True          -9.124   68.185  two-sided        0.000   3993000000000.000    -1.669\n",
      "Visit * Group  2        Converted  Demented     False     True           4.515   33.372  two-sided        0.000             693.697     0.891\n",
      "Visit * Group  2        Converted  Nondemented  False     True          -1.816   11.802  two-sided        0.095               1.126    -0.937\n",
      "Visit * Group  2        Demented   Nondemented  False     True          -8.480   66.145  two-sided        0.000    126500000000.000    -1.554\n",
      "\n"
     ]
    },
    {
     "name": "stderr",
     "output_type": "stream",
     "text": [
      "/Users/yunfanliu/anaconda3/lib/python3.11/site-packages/pingouin/pairwise.py:28: UserWarning: pairwise_ttests is deprecated, use pairwise_tests instead.\n",
      "  warnings.warn(\"pairwise_ttests is deprecated, use pairwise_tests instead.\", UserWarning)\n",
      "/Users/yunfanliu/anaconda3/lib/python3.11/site-packages/scipy/stats/_continuous_distns.py:6832: RuntimeWarning: overflow encountered in _nct_sf\n",
      "  return np.clip(_boost._nct_sf(x, df, nc), 0, 1)\n",
      "/Users/yunfanliu/anaconda3/lib/python3.11/site-packages/scipy/stats/_continuous_distns.py:6826: RuntimeWarning: overflow encountered in _nct_cdf\n",
      "  return np.clip(_boost._nct_cdf(x, df, nc), 0, 1)\n",
      "/Users/yunfanliu/anaconda3/lib/python3.11/site-packages/scipy/stats/_continuous_distns.py:6832: RuntimeWarning: overflow encountered in _nct_sf\n",
      "  return np.clip(_boost._nct_sf(x, df, nc), 0, 1)\n",
      "/Users/yunfanliu/anaconda3/lib/python3.11/site-packages/scipy/stats/_continuous_distns.py:6826: RuntimeWarning: overflow encountered in _nct_cdf\n",
      "  return np.clip(_boost._nct_cdf(x, df, nc), 0, 1)\n",
      "/Users/yunfanliu/anaconda3/lib/python3.11/site-packages/scipy/stats/_continuous_distns.py:6832: RuntimeWarning: overflow encountered in _nct_sf\n",
      "  return np.clip(_boost._nct_sf(x, df, nc), 0, 1)\n",
      "/Users/yunfanliu/anaconda3/lib/python3.11/site-packages/scipy/stats/_continuous_distns.py:6826: RuntimeWarning: overflow encountered in _nct_cdf\n",
      "  return np.clip(_boost._nct_cdf(x, df, nc), 0, 1)\n",
      "/Users/yunfanliu/anaconda3/lib/python3.11/site-packages/scipy/stats/_continuous_distns.py:6832: RuntimeWarning: overflow encountered in _nct_sf\n",
      "  return np.clip(_boost._nct_sf(x, df, nc), 0, 1)\n",
      "/Users/yunfanliu/anaconda3/lib/python3.11/site-packages/scipy/stats/_continuous_distns.py:6826: RuntimeWarning: overflow encountered in _nct_cdf\n",
      "  return np.clip(_boost._nct_cdf(x, df, nc), 0, 1)\n",
      "/Users/yunfanliu/anaconda3/lib/python3.11/site-packages/scipy/stats/_continuous_distns.py:6832: RuntimeWarning: overflow encountered in _nct_sf\n",
      "  return np.clip(_boost._nct_sf(x, df, nc), 0, 1)\n",
      "/Users/yunfanliu/anaconda3/lib/python3.11/site-packages/scipy/stats/_continuous_distns.py:6826: RuntimeWarning: overflow encountered in _nct_cdf\n",
      "  return np.clip(_boost._nct_cdf(x, df, nc), 0, 1)\n",
      "/Users/yunfanliu/anaconda3/lib/python3.11/site-packages/scipy/stats/_continuous_distns.py:6832: RuntimeWarning: overflow encountered in _nct_sf\n",
      "  return np.clip(_boost._nct_sf(x, df, nc), 0, 1)\n",
      "/Users/yunfanliu/anaconda3/lib/python3.11/site-packages/scipy/stats/_continuous_distns.py:6826: RuntimeWarning: overflow encountered in _nct_cdf\n",
      "  return np.clip(_boost._nct_cdf(x, df, nc), 0, 1)\n",
      "/Users/yunfanliu/anaconda3/lib/python3.11/site-packages/scipy/stats/_continuous_distns.py:6832: RuntimeWarning: overflow encountered in _nct_sf\n",
      "  return np.clip(_boost._nct_sf(x, df, nc), 0, 1)\n",
      "/Users/yunfanliu/anaconda3/lib/python3.11/site-packages/scipy/stats/_continuous_distns.py:6826: RuntimeWarning: overflow encountered in _nct_cdf\n",
      "  return np.clip(_boost._nct_cdf(x, df, nc), 0, 1)\n",
      "/Users/yunfanliu/anaconda3/lib/python3.11/site-packages/scipy/stats/_continuous_distns.py:6832: RuntimeWarning: overflow encountered in _nct_sf\n",
      "  return np.clip(_boost._nct_sf(x, df, nc), 0, 1)\n",
      "/Users/yunfanliu/anaconda3/lib/python3.11/site-packages/scipy/stats/_continuous_distns.py:6826: RuntimeWarning: overflow encountered in _nct_cdf\n",
      "  return np.clip(_boost._nct_cdf(x, df, nc), 0, 1)\n",
      "/Users/yunfanliu/anaconda3/lib/python3.11/site-packages/scipy/stats/_continuous_distns.py:6832: RuntimeWarning: overflow encountered in _nct_sf\n",
      "  return np.clip(_boost._nct_sf(x, df, nc), 0, 1)\n",
      "/Users/yunfanliu/anaconda3/lib/python3.11/site-packages/scipy/stats/_continuous_distns.py:6826: RuntimeWarning: overflow encountered in _nct_cdf\n",
      "  return np.clip(_boost._nct_cdf(x, df, nc), 0, 1)\n"
     ]
    }
   ],
   "source": [
    "#Post Hoc Tests\n",
    "posthocs = pg.pairwise_ttests(dv='MMSE', within='Visit', between='Group',\n",
    "                              subject='Subject ID', data=df)\n",
    "pg.print_table(posthocs)"
   ]
  },
  {
   "cell_type": "markdown",
   "id": "25cf7079",
   "metadata": {},
   "source": [
    "The comparison between visits shows a p-value < 0.05, indicating that there is a significant change in MMSE scores with the number of visits.\n",
    "The comparison between different groups reveals significant differences in MMSE scores between the 'Demented' group and both the 'Nondemented' and 'Converted' groups with a p-value<0.001.\n",
    "The comparison of the interaction effect between group and number of visits shows that there is a significant interaction between the 'Demented' group and both the 'Nondemented' and 'Converted' groups with a p-value<0.001."
   ]
  },
  {
   "cell_type": "markdown",
   "id": "3bdb8c7e",
   "metadata": {},
   "source": [
    "# Statistical Power Analysis Plot"
   ]
  },
  {
   "cell_type": "code",
   "execution_count": 13,
   "id": "1b2e845c",
   "metadata": {},
   "outputs": [
    {
     "name": "stdout",
     "output_type": "stream",
     "text": [
      "Sample size/Number needed in each group: 45.451\n"
     ]
    },
    {
     "data": {
      "image/png": "[encoded data removed]",
      "text/plain": [
       "<Figure size 640x480 with 1 Axes>"
      ]
     },
     "metadata": {},
     "output_type": "display_data"
    }
   ],
   "source": [
    "# statistical power for t-tests\n",
    "# Parameters for the power analysis\n",
    "obj = TTestIndPower()\n",
    "effect_size = 0.7 \n",
    "alpha = 0.05      \n",
    "power = 0.91      \n",
    "\n",
    "# perform power analysis to find sample size\n",
    "sample_size = obj.solve_power(effect_size=effect_size, alpha=alpha, power=power,ratio=1, alternative='two-sided')\n",
    "print('Sample size/Number needed in each group: {:.3f}'.format(sample_size))\n",
    "\n",
    "#power curves\n",
    "# power analysis varying parameters\n",
    "effect_sizes = np.array([0.3,0.5,0.7,1.3])\n",
    "sample_sizes = np.array(range(5, 100))\n",
    "# plot power curves\n",
    "obj.plot_power(dep_var='nobs', nobs=sample_sizes, effect_size=effect_sizes)\n",
    "\n",
    "plt.show()"
   ]
  },
  {
   "cell_type": "markdown",
   "id": "51ebe07f",
   "metadata": {},
   "source": [
    "With the given parameters, the required sample size for each group is 45.451. This means that to achieve a statistical power of 91% and to detect an effect size of 0.7, each group would need at least about 46 samples; moreover, the curves for effect sizes clearly demonstrate that an increase in sample size has a significant impact on increasing the power of the test."
   ]
  },
  {
   "cell_type": "code",
   "execution_count": null,
   "id": "49fbed68",
   "metadata": {},
   "outputs": [],
   "source": []
  }
 ],
 "metadata": {
  "kernelspec": {
   "display_name": "Python 3 (ipykernel)",
   "language": "python",
   "name": "python3"
  },
  "language_info": {
   "codemirror_mode": {
    "name": "ipython",
    "version": 3
   },
   "file_extension": ".py",
   "mimetype": "text/x-python",
   "name": "python",
   "nbconvert_exporter": "python",
   "pygments_lexer": "ipython3",
   "version": "3.11.4"
  }
 },
 "nbformat": 4,
 "nbformat_minor": 5
}
